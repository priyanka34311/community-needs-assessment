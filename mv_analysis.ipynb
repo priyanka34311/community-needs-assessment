{
 "cells": [
  {
   "cell_type": "code",
   "execution_count": 147,
   "id": "55bfd1db-507e-4053-ba95-bcb2087ac95f",
   "metadata": {},
   "outputs": [],
   "source": [
    "# Set up environment\n",
    "\n",
    "from IPython.core.interactiveshell import InteractiveShell\n",
    "InteractiveShell.ast_node_interactivity = \"all\"\n",
    "\n",
    "import pandas as pd\n",
    "import numpy as np\n",
    "import seaborn as sns"
   ]
  },
  {
   "cell_type": "code",
   "execution_count": 148,
   "id": "7f460954-5939-44cc-b9a0-727ac4333ba5",
   "metadata": {},
   "outputs": [
    {
     "data": {
      "text/plain": [
       "(63, 109)"
      ]
     },
     "execution_count": 148,
     "metadata": {},
     "output_type": "execute_result"
    },
    {
     "data": {
      "text/plain": [
       "(37, 121)"
      ]
     },
     "execution_count": 148,
     "metadata": {},
     "output_type": "execute_result"
    }
   ],
   "source": [
    "# Read in diabetes data\n",
    "\n",
    "diab0 = pd.read_csv('V1_Cleaned_Baseline_Diabetes.csv',na_values='-999')\n",
    "#diab0.info(verbose=True,show_counts=True)\n",
    "diab0.shape\n",
    "diab1 = pd.read_csv('V1_Cleaned_1M_Diabetes.csv',na_values='-999')\n",
    "#diab1.info(verbose=True,show_counts=True)\n",
    "diab1.shape"
   ]
  },
  {
   "cell_type": "code",
   "execution_count": 149,
   "id": "c14a38e8-c301-484f-bfad-6c77728c9cc1",
   "metadata": {},
   "outputs": [
    {
     "data": {
      "text/plain": [
       "(28, 121)"
      ]
     },
     "execution_count": 149,
     "metadata": {},
     "output_type": "execute_result"
    },
    {
     "data": {
      "text/plain": [
       "True     106\n",
       "False     15\n",
       "dtype: int64"
      ]
     },
     "execution_count": 149,
     "metadata": {},
     "output_type": "execute_result"
    },
    {
     "data": {
      "text/plain": [
       "(1, 121)"
      ]
     },
     "execution_count": 149,
     "metadata": {},
     "output_type": "execute_result"
    }
   ],
   "source": [
    "# 1M diabetes\n",
    "\n",
    "cols_mv1 = diab1.isnull().sum()\n",
    "rows_mv1 = diab1.isnull().sum(axis=1)\n",
    "\n",
    "# Analysis\n",
    "diab1[rows_mv1 > 0].shape\n",
    "(cols_mv1 > 0).value_counts()\n",
    "\n",
    "diab1[rows_mv1 > 58].shape"
   ]
  },
  {
   "cell_type": "code",
   "execution_count": 150,
   "id": "67dcae15-6bd4-41e8-b2bc-ac2888f04aa2",
   "metadata": {},
   "outputs": [
    {
     "data": {
      "text/plain": [
       "(54, 109)"
      ]
     },
     "execution_count": 150,
     "metadata": {},
     "output_type": "execute_result"
    },
    {
     "data": {
      "text/plain": [
       "True     105\n",
       "False      4\n",
       "dtype: int64"
      ]
     },
     "execution_count": 150,
     "metadata": {},
     "output_type": "execute_result"
    },
    {
     "data": {
      "text/plain": [
       "(1, 109)"
      ]
     },
     "execution_count": 150,
     "metadata": {},
     "output_type": "execute_result"
    }
   ],
   "source": [
    "# Baseline diabetes\n",
    "\n",
    "cols_mv0 = diab0.isnull().sum()\n",
    "rows_mv0 = diab0.isnull().sum(axis=1)\n",
    "\n",
    "# Analysis\n",
    "diab0[rows_mv0 > 0].shape\n",
    "(cols_mv0 > 0).value_counts()\n",
    "\n",
    "\n",
    "diab0[rows_mv0 > 52].shape"
   ]
  },
  {
   "cell_type": "code",
   "execution_count": 151,
   "id": "c5a87fe0-80ab-4dd7-95c5-a7e90b849245",
   "metadata": {},
   "outputs": [
    {
     "data": {
      "text/plain": [
       "(66, 105)"
      ]
     },
     "execution_count": 151,
     "metadata": {},
     "output_type": "execute_result"
    },
    {
     "data": {
      "text/plain": [
       "(44, 117)"
      ]
     },
     "execution_count": 151,
     "metadata": {},
     "output_type": "execute_result"
    }
   ],
   "source": [
    "# Read in depression data\n",
    "\n",
    "dep0 = pd.read_csv('V1_Cleaned_Baseline_Depression.csv',na_values='-999')\n",
    "#dep0.info(verbose=True,show_counts=True)\n",
    "dep0.shape\n",
    "dep1 = pd.read_csv('V1_Cleaned_1M_Depression.csv',na_values='-999')\n",
    "#dep1.info(verbose=True,show_counts=True)\n",
    "dep1.shape"
   ]
  },
  {
   "cell_type": "code",
   "execution_count": 152,
   "id": "4a1e692b-af90-4c9c-84a1-4b585c5738fc",
   "metadata": {},
   "outputs": [
    {
     "data": {
      "text/plain": [
       "(56, 105)"
      ]
     },
     "execution_count": 152,
     "metadata": {},
     "output_type": "execute_result"
    },
    {
     "data": {
      "text/plain": [
       "False    58\n",
       "True     47\n",
       "dtype: int64"
      ]
     },
     "execution_count": 152,
     "metadata": {},
     "output_type": "execute_result"
    },
    {
     "data": {
      "text/plain": [
       "(0, 105)"
      ]
     },
     "execution_count": 152,
     "metadata": {},
     "output_type": "execute_result"
    }
   ],
   "source": [
    "# Baseline depression\n",
    "\n",
    "dep_cols_mv0 = dep0.isnull().sum()\n",
    "dep_rows_mv0 = dep0.isnull().sum(axis=1)\n",
    "\n",
    "# Analysis\n",
    "dep0[dep_rows_mv0 > 0].shape\n",
    "(dep_cols_mv0 > 0).value_counts()\n",
    "\n",
    "dep0[dep_rows_mv0 > 50].shape"
   ]
  },
  {
   "cell_type": "code",
   "execution_count": 153,
   "id": "3897ba7c-77f6-43db-acc4-9ff2a4dc8e1e",
   "metadata": {},
   "outputs": [
    {
     "data": {
      "text/plain": [
       "(44, 117)"
      ]
     },
     "execution_count": 153,
     "metadata": {},
     "output_type": "execute_result"
    },
    {
     "data": {
      "text/plain": [
       "True     115\n",
       "False      2\n",
       "dtype: int64"
      ]
     },
     "execution_count": 153,
     "metadata": {},
     "output_type": "execute_result"
    },
    {
     "data": {
      "text/plain": [
       "(2, 117)"
      ]
     },
     "execution_count": 153,
     "metadata": {},
     "output_type": "execute_result"
    }
   ],
   "source": [
    "# 1M depression\n",
    "\n",
    "dep_cols_mv1 = dep1.isnull().sum()\n",
    "dep_rows_mv1 = dep1.isnull().sum(axis=1)\n",
    "\n",
    "# Analysis\n",
    "dep1[dep_rows_mv1 > 0].shape\n",
    "(dep_cols_mv1 > 0).value_counts()\n",
    "\n",
    "dep1[dep_rows_mv1 > 58].shape"
   ]
  }
 ],
 "metadata": {
  "kernelspec": {
   "display_name": "Python 3",
   "language": "python",
   "name": "python3"
  },
  "language_info": {
   "codemirror_mode": {
    "name": "ipython",
    "version": 3
   },
   "file_extension": ".py",
   "mimetype": "text/x-python",
   "name": "python",
   "nbconvert_exporter": "python",
   "pygments_lexer": "ipython3",
   "version": "3.8.8"
  }
 },
 "nbformat": 4,
 "nbformat_minor": 5
}

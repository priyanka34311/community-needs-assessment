{
 "cells": [
  {
   "cell_type": "code",
   "execution_count": null,
   "id": "6c0be38a-6fc0-43bc-8260-baeb66d8659b",
   "metadata": {},
   "outputs": [],
   "source": [
    "# Set up environment\n",
    "\n",
    "from IPython.core.interactiveshell import InteractiveShell\n",
    "InteractiveShell.ast_node_interactivity = \"all\"\n",
    "\n",
    "import pandas as pd\n",
    "import numpy as np\n",
    "import seaborn as sns\n",
    "from matplotlib import pyplot as plt\n",
    "import math\n",
    "\n",
    "%matplotlib inline"
   ]
  },
  {
   "cell_type": "code",
   "execution_count": null,
   "id": "574a9a62-a105-46c1-9f3a-e324d485b39d",
   "metadata": {
    "tags": []
   },
   "outputs": [],
   "source": [
    "# Load data\n",
    "\n",
    "file = 'V2_Cleaned_Baseline_Diabetes.csv'\n",
    "base = pd.read_csv(file,na_values=[-999,'999',-888,'-888'])\n",
    "base.shape\n",
    "base.columns.values"
   ]
  },
  {
   "cell_type": "code",
   "execution_count": null,
   "id": "332a3915-9c7d-48ed-ac16-2395133e8c57",
   "metadata": {},
   "outputs": [],
   "source": [
    "#Health information resources"
   ]
  },
  {
   "cell_type": "code",
   "execution_count": null,
   "id": "4c34cb44-a00c-4f2d-9274-6027553004ab",
   "metadata": {
    "tags": []
   },
   "outputs": [],
   "source": [
    "Q3_idx = ['None','A little','A good amount','A lot']\n",
    "Q3_cols = ['Q3_1', 'Q3_2', 'Q3_3', 'Q3_4', 'Q3_5']\n",
    "Q3_dict = {1:\"None\", 2:\"A little\", 3:\"A good amount\", 4:\"A lot\"}\n",
    "Q3_cat = ['Health care providers','Family and friends','Internet/websites',\n",
    "          'Written resources','Community organizations and events']\n",
    "Q3_1 = list(base['Q3_1'].value_counts().sort_index())\n",
    "Q3_2 = list(base['Q3_2'].value_counts().sort_index())\n",
    "Q3_3 = list(base['Q3_3'].value_counts().sort_index())\n",
    "Q3_4 = list(base['Q3_4'].value_counts().sort_index())\n",
    "Q3_5 = list(base['Q3_5'].value_counts().sort_index())\n",
    "\n",
    "for i in range(5):\n",
    "    \n",
    "    print(Q3_cat[i])\n",
    "    print(base[Q3_cols[i]].value_counts().sum())\n",
    "    base[Q3_cols[i]].value_counts(normalize=True).sort_index().rename(Q3_dict)\n",
    "    print()"
   ]
  },
  {
   "cell_type": "code",
   "execution_count": null,
   "id": "0a441a99-d6a2-416b-bb47-f97bb8862a6c",
   "metadata": {
    "tags": []
   },
   "outputs": [],
   "source": [
    "# Plot for Q3\n",
    "plt.bar(Q3_idx,Q3_1)\n",
    "plt.ylabel('# of participants')\n",
    "plt.title('Information from Health care providers')\n",
    "plt.tight_layout()\n",
    "\n"
   ]
  },
  {
   "cell_type": "code",
   "execution_count": null,
   "id": "aacc3e56-a5ba-45f5-93a2-fa74bef674e8",
   "metadata": {
    "tags": []
   },
   "outputs": [],
   "source": [
    "plt.bar(Q3_idx,Q3_2)\n",
    "plt.ylabel('# of participants')\n",
    "plt.title('Information from Family and Friends')\n",
    "plt.tight_layout()"
   ]
  },
  {
   "cell_type": "code",
   "execution_count": null,
   "id": "d1913bfe-5db2-4690-ac34-ad2948082d78",
   "metadata": {
    "tags": []
   },
   "outputs": [],
   "source": [
    "plt.bar(Q3_idx,Q3_3)\n",
    "plt.ylabel('# of participants')\n",
    "plt.title('Information from Internet/websites')\n",
    "plt.tight_layout()"
   ]
  },
  {
   "cell_type": "code",
   "execution_count": null,
   "id": "f4f0a927-4aff-4490-addc-2744219acb18",
   "metadata": {
    "tags": []
   },
   "outputs": [],
   "source": [
    "plt.bar(Q3_idx,Q3_4)\n",
    "plt.ylabel('# of participants')\n",
    "plt.title('Information from Written Resources')\n",
    "plt.tight_layout()"
   ]
  },
  {
   "cell_type": "code",
   "execution_count": null,
   "id": "f9fa0c62-055d-4f25-8600-269c0ce06f52",
   "metadata": {
    "tags": []
   },
   "outputs": [],
   "source": [
    "plt.bar(Q3_idx,Q3_5)\n",
    "plt.ylabel('# of participants')\n",
    "plt.title('Information from Community Organizations and Events')\n",
    "plt.tight_layout()"
   ]
  },
  {
   "cell_type": "code",
   "execution_count": null,
   "id": "6a0cc135-7675-45df-8916-ae9cfa7f658d",
   "metadata": {
    "tags": []
   },
   "outputs": [],
   "source": [
    "# Q4:\n",
    "Q4_idx = ['Yes','No']\n",
    "Q4 = list(base['Q4'].value_counts(normalize=True).sort_index())\n",
    "\n",
    "plt.pie(Q4,labels=Q4_idx,autopct='%1.1f%%')\n",
    "plt.title('Do you have other major souces of diabetes information?')\n",
    "plt.tight_layout()"
   ]
  },
  {
   "cell_type": "code",
   "execution_count": null,
   "id": "b53f2f12-ac22-4f79-99a2-88f00e207fb0",
   "metadata": {
    "tags": []
   },
   "outputs": [],
   "source": [
    "# Q6 - Satisfaction with diabetes information\n",
    "\n",
    "Q6_idx = ['Very unsatisfied','Unsatisfied','Neutral','Satisfied','Very satisfied',\n",
    "         'Not applicable']\n",
    "Q6_cols = ['Q6_1', 'Q6_2', 'Q6_3', 'Q6_4', 'Q6_5']\n",
    "Q6_dict = {1:\"Very unsatisfied\", 2:\"Unsatisfied\", \n",
    "           3:\"Neutral\", 4:\"Satisfied\", 5:\"Very satisfied\", 6: \"Not applicable\"}\n",
    "Q6_cat = ['Health care providers','Family and friends','Internet/websites',\n",
    "          'Written resources','Community organizations and events']\n",
    "Q6_1 = list(base['Q6_1'].value_counts().sort_index())\n",
    "Q6_2 = list(base['Q6_2'].value_counts().sort_index())\n",
    "Q6_3 = list(base['Q6_3'].value_counts().sort_index())\n",
    "Q6_4 = list(base['Q6_4'].value_counts().sort_index())\n",
    "Q6_5 = list(base['Q6_5'].value_counts().sort_index())\n",
    "\n",
    "for i in range(5):\n",
    "    \n",
    "    print(Q6_cat[i])\n",
    "    print(base[Q6_cols[i]].value_counts().sum())\n",
    "    base[Q6_cols[i]].value_counts(normalize=True).sort_index().rename(Q6_dict)\n",
    "    print()\n"
   ]
  },
  {
   "cell_type": "code",
   "execution_count": null,
   "id": "57dfc841-e5f0-46c4-9d80-81311dde059d",
   "metadata": {
    "tags": []
   },
   "outputs": [],
   "source": [
    "# Plot for Q6\n",
    "\n",
    "Q6_1.append(0)\n",
    "plt.barh(Q6_idx,Q6_1)\n",
    "plt.xlabel('# of participants')\n",
    "plt.title('Satisfaction with Information from Health care providers')\n",
    "plt.tight_layout()"
   ]
  },
  {
   "cell_type": "code",
   "execution_count": null,
   "id": "cc4d6203-e390-43a7-abbc-f8f7c825167b",
   "metadata": {
    "tags": []
   },
   "outputs": [],
   "source": [
    "Q6_2.append(0)\n",
    "plt.barh(Q6_idx,Q6_2)\n",
    "plt.xlabel('# of participants')\n",
    "plt.title('Satisfaction with Information from Family and Friends')\n",
    "plt.tight_layout()"
   ]
  },
  {
   "cell_type": "code",
   "execution_count": null,
   "id": "72b106b9-9e27-448f-a280-e3662ea7013d",
   "metadata": {
    "tags": []
   },
   "outputs": [],
   "source": [
    "Q6_3.append(0)\n",
    "plt.barh(Q6_idx,Q6_3)\n",
    "plt.xlabel('# of participants')\n",
    "plt.title('Satisfaction with Information from Internet/websites')\n",
    "plt.tight_layout()"
   ]
  },
  {
   "cell_type": "code",
   "execution_count": null,
   "id": "c08956e3-081d-4371-a334-62068766c622",
   "metadata": {
    "tags": []
   },
   "outputs": [],
   "source": [
    "Q6_4.append(0)\n",
    "plt.barh(Q6_idx,Q6_4)\n",
    "plt.xlabel('# of participants')\n",
    "plt.title('Satisfaction with Written Resources')\n",
    "plt.tight_layout()"
   ]
  },
  {
   "cell_type": "code",
   "execution_count": null,
   "id": "4eae03fd-21eb-4403-8f39-02ede9231f3c",
   "metadata": {
    "tags": []
   },
   "outputs": [],
   "source": [
    "Q6_5.append(0)\n",
    "plt.barh(Q6_idx,Q6_5)\n",
    "plt.xlabel('# of participants')\n",
    "plt.title('Satisfaction with Information from Community Organizations and Events')\n",
    "plt.tight_layout()"
   ]
  },
  {
   "cell_type": "code",
   "execution_count": null,
   "id": "dc1c996c-469a-42c4-94b3-c3fe93bfee93",
   "metadata": {
    "tags": []
   },
   "outputs": [],
   "source": [
    "# Q7 - Typical internet use\n",
    "\n",
    "Q7_idx = ['Daily','A few times a week','A few times a month',\n",
    "          'A few times a year or less']\n",
    "Q7_cols = ['Q7_1', 'Q7_2', 'Q7_3', 'Q7_4','Q7_5']\n",
    "Q7_dict = {1:\"Daily\", 2:\"A few times a week\", \n",
    "           3:\"A few times a month\", 4:\"A few times a year or less\"}\n",
    "Q7_cat = ['Use a computer','Use the internet','Shop online',\n",
    "          'Use social media','Look for health information']\n",
    "Q7_1 = list(base['Q7_1'].value_counts().sort_index())\n",
    "Q7_2 = list(base['Q7_2'].value_counts().sort_index())\n",
    "Q7_3 = list(base['Q7_3'].value_counts().sort_index())\n",
    "Q7_4 = list(base['Q7_4'].value_counts().sort_index())\n",
    "Q7_5 = list(base['Q7_5'].value_counts().sort_index())\n",
    "\n",
    "for i in range(5):\n",
    "    \n",
    "    print(Q7_cat[i])\n",
    "    print(base[Q7_cols[i]].value_counts().sum())\n",
    "    base[Q7_cols[i]].value_counts(normalize=True).rename(Q7_dict)\n",
    "    print()\n"
   ]
  },
  {
   "cell_type": "code",
   "execution_count": null,
   "id": "b2ff39e5-9a54-419e-8c7a-f5a973b6b73e",
   "metadata": {
    "tags": []
   },
   "outputs": [],
   "source": [
    "# Plot for Q7\n",
    "\n",
    "plt.barh(Q7_idx,Q7_1)\n",
    "plt.xlabel('# of participants')\n",
    "plt.title('Typical Use of Computer')\n",
    "plt.tight_layout()"
   ]
  },
  {
   "cell_type": "code",
   "execution_count": null,
   "id": "680ae26c-3b96-48ee-a6ab-ddf00cb9fd7a",
   "metadata": {
    "tags": []
   },
   "outputs": [],
   "source": [
    "#plt.barh(Q7_2)\n",
    "#plt.xlabel('# of participants')\n",
    "#plt.title('Typical Use of Internet')\n",
    "#plt.tight_layout()\n",
    "\n",
    "plt.barh(Q7_idx,Q7_2)\n",
    "plt.xlabel('# of participants')\n",
    "plt.title('Typical Use of Internet')\n",
    "plt.tight_layout()"
   ]
  },
  {
   "cell_type": "code",
   "execution_count": null,
   "id": "e26c4696-93e3-408e-9b34-f5bd427a6367",
   "metadata": {
    "tags": []
   },
   "outputs": [],
   "source": [
    "plt.barh(Q7_idx,Q7_3)\n",
    "plt.xlabel('# of participants')\n",
    "plt.title('Shopping online')\n",
    "plt.tight_layout()"
   ]
  },
  {
   "cell_type": "code",
   "execution_count": null,
   "id": "ce675a4a-9a06-4371-8d83-6f2cba2c434c",
   "metadata": {
    "tags": []
   },
   "outputs": [],
   "source": [
    "plt.barh(Q7_idx,Q7_4)\n",
    "plt.xlabel('# of participants')\n",
    "plt.title('Typical Use of Social Media')\n",
    "plt.tight_layout()"
   ]
  },
  {
   "cell_type": "code",
   "execution_count": null,
   "id": "2c06e073-b8b9-4a46-9389-6aae9effcb40",
   "metadata": {
    "tags": []
   },
   "outputs": [],
   "source": [
    "plt.barh(Q7_idx,Q7_5)\n",
    "plt.xlabel('# of participants')\n",
    "plt.title('Looking for Health Information online')\n",
    "plt.tight_layout()"
   ]
  },
  {
   "cell_type": "code",
   "execution_count": null,
   "id": "6b60946c-34e9-47d5-a615-9869fcf44e37",
   "metadata": {
    "tags": []
   },
   "outputs": [],
   "source": [
    "# Q8\n",
    "\n",
    "Q8_idx = ['Yes','No']\n",
    "Q8 = list(base['Q8'].value_counts(normalize=True).sort_index())\n",
    "\n",
    "plt.pie(Q8,labels=Q8_idx,autopct='%1.1f%%')\n",
    "plt.title('Do you have a cell phone?')\n",
    "plt.tight_layout()\n"
   ]
  },
  {
   "cell_type": "code",
   "execution_count": null,
   "id": "1967ef59-13d8-42a3-b9e1-9dde0046eded",
   "metadata": {
    "tags": []
   },
   "outputs": [],
   "source": [
    "# Q9:\n",
    "Q9_idx = ['Smart phone','Not a smart phone']\n",
    "Q9 = list(base['Q9'].value_counts(normalize=True).sort_index())\n",
    "\n",
    "plt.pie(Q9,labels=Q9_idx,autopct='%1.1f%%')\n",
    "plt.title('If yes, what kind of cell phone?')\n",
    "plt.tight_layout()"
   ]
  },
  {
   "cell_type": "code",
   "execution_count": null,
   "id": "9bf3f54e-c766-451a-8671-13b24d68b1ea",
   "metadata": {
    "tags": []
   },
   "outputs": [],
   "source": [
    "# Q10:\n",
    "Q10_idx = ['Yes','No']\n",
    "Q10 = list(base['Q10'].value_counts(normalize=True).sort_index())\n",
    "\n",
    "plt.pie(Q10,labels=Q10_idx,autopct='%1.1f%%')\n",
    "plt.title('Do you have a computer?')\n",
    "plt.tight_layout()"
   ]
  },
  {
   "cell_type": "code",
   "execution_count": null,
   "id": "900cedd0-3912-40cf-a465-7637ff8bf0bd",
   "metadata": {
    "tags": []
   },
   "outputs": [],
   "source": [
    "# Q11:\n",
    "Q11_idx = ['Yes','No']\n",
    "Q11 = list(base['Q11'].value_counts(normalize=True).sort_index())\n",
    "\n",
    "plt.pie(Q11,labels=Q11_idx,autopct='%1.1f%%')\n",
    "plt.title('Do you have a tablet?')\n",
    "plt.tight_layout()"
   ]
  },
  {
   "cell_type": "code",
   "execution_count": null,
   "id": "2162dd90-c19e-406b-b6bc-507ec6fd6d61",
   "metadata": {
    "tags": []
   },
   "outputs": [],
   "source": [
    "# Q12:\n",
    "Q12_idx = ['Yes','No']\n",
    "Q12 = list(base['Q12'].value_counts(normalize=True).sort_index())\n",
    "\n",
    "plt.pie(Q12,labels=Q12_idx,autopct='%1.1f%%')\n",
    "plt.title('Do you have internet service at home?')\n",
    "plt.tight_layout()"
   ]
  },
  {
   "cell_type": "code",
   "execution_count": null,
   "id": "3efe6081-ba56-412a-a145-d2cfd78b0688",
   "metadata": {
    "tags": []
   },
   "outputs": [],
   "source": [
    "# Q13:\n",
    "Q13_idx = ['At Home','Other']\n",
    "Q13 = list(base['Q11'].value_counts(normalize=True).sort_index())\n",
    "\n",
    "plt.pie(Q13,labels=Q13_idx,autopct='%1.1f%%')\n",
    "plt.title('Where do you frequently use a computer?')\n",
    "plt.tight_layout()"
   ]
  },
  {
   "cell_type": "code",
   "execution_count": null,
   "id": "2bbcf356-75ae-4fe7-95f7-ef9ca0514014",
   "metadata": {
    "tags": []
   },
   "outputs": [],
   "source": [
    "#Q14\n",
    "\n",
    "Q14_idx = ['None','Poor','Moderate','Good','Excellent']\n",
    "Q14 = list(base['Q14'].value_counts().sort_index())\n",
    "\n",
    "plt.bar(Q14_idx,Q14)\n",
    "plt.title('Self-reported Ability to Use Internet')\n",
    "plt.ylabel('# of participants')\n",
    "plt.tight_layout()"
   ]
  },
  {
   "cell_type": "code",
   "execution_count": null,
   "id": "d52a24d7-4393-4eac-b35c-488d208c9fea",
   "metadata": {},
   "outputs": [],
   "source": []
  },
  {
   "cell_type": "code",
   "execution_count": null,
   "id": "7afab124-dead-4643-af91-ad6c9ec530ca",
   "metadata": {},
   "outputs": [],
   "source": []
  }
 ],
 "metadata": {
  "kernelspec": {
   "display_name": "Python 3",
   "language": "python",
   "name": "python3"
  },
  "language_info": {
   "codemirror_mode": {
    "name": "ipython",
    "version": 3
   },
   "file_extension": ".py",
   "mimetype": "text/x-python",
   "name": "python",
   "nbconvert_exporter": "python",
   "pygments_lexer": "ipython3",
   "version": "3.8.8"
  }
 },
 "nbformat": 4,
 "nbformat_minor": 5
}

{
 "cells": [
  {
   "cell_type": "code",
   "execution_count": 40,
   "id": "6c0be38a-6fc0-43bc-8260-baeb66d8659b",
   "metadata": {},
   "outputs": [],
   "source": [
    "# Set up environment\n",
    "\n",
    "from IPython.core.interactiveshell import InteractiveShell\n",
    "InteractiveShell.ast_node_interactivity = \"all\"\n",
    "\n",
    "import pandas as pd\n",
    "import numpy as np\n",
    "import seaborn as sns\n",
    "from matplotlib import pyplot as plt\n",
    "import math\n",
    "\n",
    "%matplotlib inline"
   ]
  },
  {
   "cell_type": "code",
   "execution_count": 41,
   "id": "574a9a62-a105-46c1-9f3a-e324d485b39d",
   "metadata": {},
   "outputs": [
    {
     "data": {
      "text/plain": [
       "(128, 39)"
      ]
     },
     "execution_count": 41,
     "metadata": {},
     "output_type": "execute_result"
    },
    {
     "data": {
      "text/plain": [
       "array(['Q3_1', 'Q3_2', 'Q3_3', 'Q3_4', 'Q3_5', 'Q6_1', 'Q6_2', 'Q6_3',\n",
       "       'Q6_4', 'Q6_5', 'Q7_1', 'Q7_2', 'Q7_3', 'Q7_4', 'Q7_5', 'Q8', 'Q9',\n",
       "       'Q10', 'Q11', 'Q12', 'Q13', 'Q13_2_TEXT', 'Q14', 'Q18', 'Q32',\n",
       "       'Q19', 'Q20', 'Q21', 'Q21_3_TEXT', 'Q22', 'Q23', 'Q24', 'Q25',\n",
       "       'Q27', 'Q28', 'Q29', 'Q30', 'Q30_2_TEXT', 'Q31'], dtype=object)"
      ]
     },
     "execution_count": 41,
     "metadata": {},
     "output_type": "execute_result"
    }
   ],
   "source": [
    "# Load data\n",
    "\n",
    "file = 'Baseline_data.csv'\n",
    "base = pd.read_csv(file,na_values=[-999,'999',-888,'-888'])\n",
    "base.shape\n",
    "base.columns.values"
   ]
  },
  {
   "cell_type": "code",
   "execution_count": 42,
   "id": "332a3915-9c7d-48ed-ac16-2395133e8c57",
   "metadata": {},
   "outputs": [],
   "source": [
    "#Health information resources"
   ]
  },
  {
   "cell_type": "code",
   "execution_count": 43,
   "id": "4c34cb44-a00c-4f2d-9274-6027553004ab",
   "metadata": {
    "collapsed": true,
    "jupyter": {
     "outputs_hidden": true
    },
    "tags": []
   },
   "outputs": [
    {
     "name": "stdout",
     "output_type": "stream",
     "text": [
      "Health care providers\n",
      "126\n"
     ]
    },
    {
     "data": {
      "text/plain": [
       "None             0.285714\n",
       "A little         0.388889\n",
       "A good amount    0.198413\n",
       "A lot            0.126984\n",
       "Name: Q3_1, dtype: float64"
      ]
     },
     "execution_count": 43,
     "metadata": {},
     "output_type": "execute_result"
    },
    {
     "name": "stdout",
     "output_type": "stream",
     "text": [
      "\n",
      "Family and friends\n",
      "122\n"
     ]
    },
    {
     "data": {
      "text/plain": [
       "None             0.377049\n",
       "A little         0.393443\n",
       "A good amount    0.122951\n",
       "A lot            0.106557\n",
       "Name: Q3_2, dtype: float64"
      ]
     },
     "execution_count": 43,
     "metadata": {},
     "output_type": "execute_result"
    },
    {
     "name": "stdout",
     "output_type": "stream",
     "text": [
      "\n",
      "Internet/websites\n",
      "122\n"
     ]
    },
    {
     "data": {
      "text/plain": [
       "None             0.508197\n",
       "A little         0.311475\n",
       "A good amount    0.106557\n",
       "A lot            0.073770\n",
       "Name: Q3_3, dtype: float64"
      ]
     },
     "execution_count": 43,
     "metadata": {},
     "output_type": "execute_result"
    },
    {
     "name": "stdout",
     "output_type": "stream",
     "text": [
      "\n",
      "Written resources\n",
      "124\n"
     ]
    },
    {
     "data": {
      "text/plain": [
       "None             0.395161\n",
       "A little         0.370968\n",
       "A good amount    0.153226\n",
       "A lot            0.080645\n",
       "Name: Q3_4, dtype: float64"
      ]
     },
     "execution_count": 43,
     "metadata": {},
     "output_type": "execute_result"
    },
    {
     "name": "stdout",
     "output_type": "stream",
     "text": [
      "\n",
      "Community organizations and events\n",
      "125\n"
     ]
    },
    {
     "data": {
      "text/plain": [
       "None             0.408\n",
       "A little         0.424\n",
       "A good amount    0.144\n",
       "A lot            0.024\n",
       "Name: Q3_5, dtype: float64"
      ]
     },
     "execution_count": 43,
     "metadata": {},
     "output_type": "execute_result"
    },
    {
     "name": "stdout",
     "output_type": "stream",
     "text": [
      "\n"
     ]
    }
   ],
   "source": [
    "Q3_idx = ['None','A little','A good amount','A lot']\n",
    "Q3_cols = ['Q3_1', 'Q3_2', 'Q3_3', 'Q3_4', 'Q3_5']\n",
    "Q3_dict = {1:\"None\", 2:\"A little\", 3:\"A good amount\", 4:\"A lot\"}\n",
    "Q3_cat = ['Health care providers','Family and friends','Internet/websites',\n",
    "          'Written resources','Community organizations and events']\n",
    "Q3_1 = list(base['Q3_1'].value_counts().sort_index())\n",
    "Q3_2 = list(base['Q3_2'].value_counts().sort_index())\n",
    "Q3_3 = list(base['Q3_3'].value_counts().sort_index())\n",
    "Q3_4 = list(base['Q3_4'].value_counts().sort_index())\n",
    "Q3_5 = list(base['Q3_5'].value_counts().sort_index())\n",
    "\n",
    "for i in range(5):\n",
    "    \n",
    "    print(Q3_cat[i])\n",
    "    print(base[Q3_cols[i]].value_counts().sum())\n",
    "    base[Q3_cols[i]].value_counts(normalize=True).sort_index().rename(Q3_dict)\n",
    "    print()"
   ]
  },
  {
   "cell_type": "code",
   "execution_count": 44,
   "id": "0a441a99-d6a2-416b-bb47-f97bb8862a6c",
   "metadata": {
    "collapsed": true,
    "jupyter": {
     "outputs_hidden": true
    },
    "tags": []
   },
   "outputs": [
    {
     "data": {
      "text/plain": [
       "<BarContainer object of 4 artists>"
      ]
     },
     "execution_count": 44,
     "metadata": {},
     "output_type": "execute_result"
    },
    {
     "data": {
      "text/plain": [
       "Text(0, 0.5, '# of participants')"
      ]
     },
     "execution_count": 44,
     "metadata": {},
     "output_type": "execute_result"
    },
    {
     "data": {
      "text/plain": [
       "Text(0.5, 1.0, 'Information from Health care providers')"
      ]
     },
     "execution_count": 44,
     "metadata": {},
     "output_type": "execute_result"
    },
    {
     "data": {
      "image/png": "[encoded data removed]",
      "text/plain": [
       "<Figure size 432x288 with 1 Axes>"
      ]
     },
     "metadata": {
      "needs_background": "light"
     },
     "output_type": "display_data"
    }
   ],
   "source": [
    "# Plot for Q3\n",
    "plt.bar(Q3_idx,Q3_1)\n",
    "plt.ylabel('# of participants')\n",
    "plt.title('Information from Health care providers')\n",
    "plt.tight_layout()\n",
    "\n"
   ]
  },
  {
   "cell_type": "code",
   "execution_count": 45,
   "id": "aacc3e56-a5ba-45f5-93a2-fa74bef674e8",
   "metadata": {
    "collapsed": true,
    "jupyter": {
     "outputs_hidden": true
    },
    "tags": []
   },
   "outputs": [
    {
     "data": {
      "text/plain": [
       "<BarContainer object of 4 artists>"
      ]
     },
     "execution_count": 45,
     "metadata": {},
     "output_type": "execute_result"
    },
    {
     "data": {
      "text/plain": [
       "Text(0, 0.5, '# of participants')"
      ]
     },
     "execution_count": 45,
     "metadata": {},
     "output_type": "execute_result"
    },
    {
     "data": {
      "text/plain": [
       "Text(0.5, 1.0, 'Information from Family and Friends')"
      ]
     },
     "execution_count": 45,
     "metadata": {},
     "output_type": "execute_result"
    },
    {
     "data": {
      "image/png": "[encoded data removed]",
      "text/plain": [
       "<Figure size 432x288 with 1 Axes>"
      ]
     },
     "metadata": {
      "needs_background": "light"
     },
     "output_type": "display_data"
    }
   ],
   "source": [
    "plt.bar(Q3_idx,Q3_2)\n",
    "plt.ylabel('# of participants')\n",
    "plt.title('Information from Family and Friends')\n",
    "plt.tight_layout()"
   ]
  },
  {
   "cell_type": "code",
   "execution_count": 46,
   "id": "d1913bfe-5db2-4690-ac34-ad2948082d78",
   "metadata": {
    "collapsed": true,
    "jupyter": {
     "outputs_hidden": true
    },
    "tags": []
   },
   "outputs": [
    {
     "data": {
      "text/plain": [
       "<BarContainer object of 4 artists>"
      ]
     },
     "execution_count": 46,
     "metadata": {},
     "output_type": "execute_result"
    },
    {
     "data": {
      "text/plain": [
       "Text(0, 0.5, '# of participants')"
      ]
     },
     "execution_count": 46,
     "metadata": {},
     "output_type": "execute_result"
    },
    {
     "data": {
      "text/plain": [
       "Text(0.5, 1.0, 'Information from Internet/websites')"
      ]
     },
     "execution_count": 46,
     "metadata": {},
     "output_type": "execute_result"
    },
    {
     "data": {
      "image/png": "[encoded data removed]",
      "text/plain": [
       "<Figure size 432x288 with 1 Axes>"
      ]
     },
     "metadata": {
      "needs_background": "light"
     },
     "output_type": "display_data"
    }
   ],
   "source": [
    "plt.bar(Q3_idx,Q3_3)\n",
    "plt.ylabel('# of participants')\n",
    "plt.title('Information from Internet/websites')\n",
    "plt.tight_layout()"
   ]
  },
  {
   "cell_type": "code",
   "execution_count": 47,
   "id": "f4f0a927-4aff-4490-addc-2744219acb18",
   "metadata": {
    "collapsed": true,
    "jupyter": {
     "outputs_hidden": true
    },
    "tags": []
   },
   "outputs": [
    {
     "data": {
      "text/plain": [
       "<BarContainer object of 4 artists>"
      ]
     },
     "execution_count": 47,
     "metadata": {},
     "output_type": "execute_result"
    },
    {
     "data": {
      "text/plain": [
       "Text(0, 0.5, '# of participants')"
      ]
     },
     "execution_count": 47,
     "metadata": {},
     "output_type": "execute_result"
    },
    {
     "data": {
      "text/plain": [
       "Text(0.5, 1.0, 'Information from Written Resources')"
      ]
     },
     "execution_count": 47,
     "metadata": {},
     "output_type": "execute_result"
    },
    {
     "data": {
      "image/png": "[encoded data removed]",
      "text/plain": [
       "<Figure size 432x288 with 1 Axes>"
      ]
     },
     "metadata": {
      "needs_background": "light"
     },
     "output_type": "display_data"
    }
   ],
   "source": [
    "plt.bar(Q3_idx,Q3_4)\n",
    "plt.ylabel('# of participants')\n",
    "plt.title('Information from Written Resources')\n",
    "plt.tight_layout()"
   ]
  },
  {
   "cell_type": "code",
   "execution_count": 48,
   "id": "f9fa0c62-055d-4f25-8600-269c0ce06f52",
   "metadata": {
    "collapsed": true,
    "jupyter": {
     "outputs_hidden": true
    },
    "tags": []
   },
   "outputs": [
    {
     "data": {
      "text/plain": [
       "<BarContainer object of 4 artists>"
      ]
     },
     "execution_count": 48,
     "metadata": {},
     "output_type": "execute_result"
    },
    {
     "data": {
      "text/plain": [
       "Text(0, 0.5, '# of participants')"
      ]
     },
     "execution_count": 48,
     "metadata": {},
     "output_type": "execute_result"
    },
    {
     "data": {
      "text/plain": [
       "Text(0.5, 1.0, 'Information from Community Organizations and Events')"
      ]
     },
     "execution_count": 48,
     "metadata": {},
     "output_type": "execute_result"
    },
    {
     "data": {
      "image/png": "[encoded data removed]",
      "text/plain": [
       "<Figure size 432x288 with 1 Axes>"
      ]
     },
     "metadata": {
      "needs_background": "light"
     },
     "output_type": "display_data"
    }
   ],
   "source": [
    "plt.bar(Q3_idx,Q3_5)\n",
    "plt.ylabel('# of participants')\n",
    "plt.title('Information from Community Organizations and Events')\n",
    "plt.tight_layout()"
   ]
  },
  {
   "cell_type": "code",
   "execution_count": 49,
   "id": "6a0cc135-7675-45df-8916-ae9cfa7f658d",
   "metadata": {},
   "outputs": [],
   "source": [
    "# Q4:\n",
    "#Q4_idx = ['Yes','No']\n",
    "#Q4 = list(base['Q4'].value_counts(normalize=True).sort_index())\n",
    "\n",
    "#plt.pie(Q4,labels=Q4_idx,autopct='%1.1f%%')\n",
    "#plt.title('Do you have other major souces of diabetes information?')\n",
    "#plt.tight_layout()"
   ]
  },
  {
   "cell_type": "code",
   "execution_count": 50,
   "id": "b53f2f12-ac22-4f79-99a2-88f00e207fb0",
   "metadata": {
    "collapsed": true,
    "jupyter": {
     "outputs_hidden": true
    },
    "tags": []
   },
   "outputs": [
    {
     "name": "stdout",
     "output_type": "stream",
     "text": [
      "Health care providers\n",
      "103\n"
     ]
    },
    {
     "data": {
      "text/plain": [
       "Very unsatisfied    0.087379\n",
       "Unsatisfied         0.097087\n",
       "Neutral             0.271845\n",
       "Satisfied           0.417476\n",
       "Very satisfied      0.126214\n",
       "Name: Q6_1, dtype: float64"
      ]
     },
     "execution_count": 50,
     "metadata": {},
     "output_type": "execute_result"
    },
    {
     "name": "stdout",
     "output_type": "stream",
     "text": [
      "\n",
      "Family and friends\n",
      "94\n"
     ]
    },
    {
     "data": {
      "text/plain": [
       "Very unsatisfied    0.095745\n",
       "Unsatisfied         0.170213\n",
       "Neutral             0.319149\n",
       "Satisfied           0.361702\n",
       "Very satisfied      0.053191\n",
       "Name: Q6_2, dtype: float64"
      ]
     },
     "execution_count": 50,
     "metadata": {},
     "output_type": "execute_result"
    },
    {
     "name": "stdout",
     "output_type": "stream",
     "text": [
      "\n",
      "Internet/websites\n",
      "84\n"
     ]
    },
    {
     "data": {
      "text/plain": [
       "Very unsatisfied    0.130952\n",
       "Unsatisfied         0.107143\n",
       "Neutral             0.369048\n",
       "Satisfied           0.357143\n",
       "Very satisfied      0.035714\n",
       "Name: Q6_3, dtype: float64"
      ]
     },
     "execution_count": 50,
     "metadata": {},
     "output_type": "execute_result"
    },
    {
     "name": "stdout",
     "output_type": "stream",
     "text": [
      "\n",
      "Written resources\n",
      "92\n"
     ]
    },
    {
     "data": {
      "text/plain": [
       "Very unsatisfied    0.130435\n",
       "Unsatisfied         0.086957\n",
       "Neutral             0.293478\n",
       "Satisfied           0.413043\n",
       "Very satisfied      0.076087\n",
       "Name: Q6_4, dtype: float64"
      ]
     },
     "execution_count": 50,
     "metadata": {},
     "output_type": "execute_result"
    },
    {
     "name": "stdout",
     "output_type": "stream",
     "text": [
      "\n",
      "Community organizations and events\n",
      "92\n"
     ]
    },
    {
     "data": {
      "text/plain": [
       "Very unsatisfied    0.119565\n",
       "Unsatisfied         0.086957\n",
       "Neutral             0.315217\n",
       "Satisfied           0.336957\n",
       "Very satisfied      0.141304\n",
       "Name: Q6_5, dtype: float64"
      ]
     },
     "execution_count": 50,
     "metadata": {},
     "output_type": "execute_result"
    },
    {
     "name": "stdout",
     "output_type": "stream",
     "text": [
      "\n"
     ]
    }
   ],
   "source": [
    "# Q6 - Satisfaction with diabetes information\n",
    "\n",
    "Q6_idx = ['Very unsatisfied','Unsatisfied','Neutral','Satisfied','Very satisfied',\n",
    "         'Not applicable']\n",
    "Q6_cols = ['Q6_1', 'Q6_2', 'Q6_3', 'Q6_4', 'Q6_5']\n",
    "Q6_dict = {1:\"Very unsatisfied\", 2:\"Unsatisfied\", \n",
    "           3:\"Neutral\", 4:\"Satisfied\", 5:\"Very satisfied\", 6: \"Not applicable\"}\n",
    "Q6_cat = ['Health care providers','Family and friends','Internet/websites',\n",
    "          'Written resources','Community organizations and events']\n",
    "Q6_1 = list(base['Q6_1'].value_counts().sort_index())\n",
    "Q6_2 = list(base['Q6_2'].value_counts().sort_index())\n",
    "Q6_3 = list(base['Q6_3'].value_counts().sort_index())\n",
    "Q6_4 = list(base['Q6_4'].value_counts().sort_index())\n",
    "Q6_5 = list(base['Q6_5'].value_counts().sort_index())\n",
    "\n",
    "for i in range(5):\n",
    "    \n",
    "    print(Q6_cat[i])\n",
    "    print(base[Q6_cols[i]].value_counts().sum())\n",
    "    base[Q6_cols[i]].value_counts(normalize=True).sort_index().rename(Q6_dict)\n",
    "    print()\n"
   ]
  },
  {
   "cell_type": "code",
   "execution_count": 51,
   "id": "57dfc841-e5f0-46c4-9d80-81311dde059d",
   "metadata": {
    "collapsed": true,
    "jupyter": {
     "outputs_hidden": true
    },
    "tags": []
   },
   "outputs": [
    {
     "data": {
      "text/plain": [
       "<BarContainer object of 6 artists>"
      ]
     },
     "execution_count": 51,
     "metadata": {},
     "output_type": "execute_result"
    },
    {
     "data": {
      "text/plain": [
       "Text(0.5, 0, '# of participants')"
      ]
     },
     "execution_count": 51,
     "metadata": {},
     "output_type": "execute_result"
    },
    {
     "data": {
      "text/plain": [
       "Text(0.5, 1.0, 'Satisfaction with Information from Health care providers')"
      ]
     },
     "execution_count": 51,
     "metadata": {},
     "output_type": "execute_result"
    },
    {
     "data": {
      "image/png": "[encoded data removed]",
      "text/plain": [
       "<Figure size 432x288 with 1 Axes>"
      ]
     },
     "metadata": {
      "needs_background": "light"
     },
     "output_type": "display_data"
    }
   ],
   "source": [
    "# Plot for Q6\n",
    "\n",
    "Q6_1.append(0)\n",
    "plt.barh(Q6_idx,Q6_1)\n",
    "plt.xlabel('# of participants')\n",
    "plt.title('Satisfaction with Information from Health care providers')\n",
    "plt.tight_layout()"
   ]
  },
  {
   "cell_type": "code",
   "execution_count": 52,
   "id": "cc4d6203-e390-43a7-abbc-f8f7c825167b",
   "metadata": {
    "collapsed": true,
    "jupyter": {
     "outputs_hidden": true
    },
    "tags": []
   },
   "outputs": [
    {
     "data": {
      "text/plain": [
       "<BarContainer object of 6 artists>"
      ]
     },
     "execution_count": 52,
     "metadata": {},
     "output_type": "execute_result"
    },
    {
     "data": {
      "text/plain": [
       "Text(0.5, 0, '# of participants')"
      ]
     },
     "execution_count": 52,
     "metadata": {},
     "output_type": "execute_result"
    },
    {
     "data": {
      "text/plain": [
       "Text(0.5, 1.0, 'Satisfaction with Information from Family and Friends')"
      ]
     },
     "execution_count": 52,
     "metadata": {},
     "output_type": "execute_result"
    },
    {
     "data": {
      "image/png": "[encoded data removed]",
      "text/plain": [
       "<Figure size 432x288 with 1 Axes>"
      ]
     },
     "metadata": {
      "needs_background": "light"
     },
     "output_type": "display_data"
    }
   ],
   "source": [
    "Q6_2.append(0)\n",
    "plt.barh(Q6_idx,Q6_2)\n",
    "plt.xlabel('# of participants')\n",
    "plt.title('Satisfaction with Information from Family and Friends')\n",
    "plt.tight_layout()"
   ]
  },
  {
   "cell_type": "code",
   "execution_count": 53,
   "id": "72b106b9-9e27-448f-a280-e3662ea7013d",
   "metadata": {
    "collapsed": true,
    "jupyter": {
     "outputs_hidden": true
    },
    "tags": []
   },
   "outputs": [
    {
     "data": {
      "text/plain": [
       "<BarContainer object of 6 artists>"
      ]
     },
     "execution_count": 53,
     "metadata": {},
     "output_type": "execute_result"
    },
    {
     "data": {
      "text/plain": [
       "Text(0.5, 0, '# of participants')"
      ]
     },
     "execution_count": 53,
     "metadata": {},
     "output_type": "execute_result"
    },
    {
     "data": {
      "text/plain": [
       "Text(0.5, 1.0, 'Satisfaction with Information from Internet/websites')"
      ]
     },
     "execution_count": 53,
     "metadata": {},
     "output_type": "execute_result"
    },
    {
     "data": {
      "image/png": "[encoded data removed]",
      "text/plain": [
       "<Figure size 432x288 with 1 Axes>"
      ]
     },
     "metadata": {
      "needs_background": "light"
     },
     "output_type": "display_data"
    }
   ],
   "source": [
    "Q6_3.append(0)\n",
    "plt.barh(Q6_idx,Q6_3)\n",
    "plt.xlabel('# of participants')\n",
    "plt.title('Satisfaction with Information from Internet/websites')\n",
    "plt.tight_layout()"
   ]
  },
  {
   "cell_type": "code",
   "execution_count": 54,
   "id": "c08956e3-081d-4371-a334-62068766c622",
   "metadata": {
    "collapsed": true,
    "jupyter": {
     "outputs_hidden": true
    },
    "tags": []
   },
   "outputs": [
    {
     "data": {
      "text/plain": [
       "<BarContainer object of 6 artists>"
      ]
     },
     "execution_count": 54,
     "metadata": {},
     "output_type": "execute_result"
    },
    {
     "data": {
      "text/plain": [
       "Text(0.5, 0, '# of participants')"
      ]
     },
     "execution_count": 54,
     "metadata": {},
     "output_type": "execute_result"
    },
    {
     "data": {
      "text/plain": [
       "Text(0.5, 1.0, 'Satisfaction with Written Resources')"
      ]
     },
     "execution_count": 54,
     "metadata": {},
     "output_type": "execute_result"
    },
    {
     "data": {
      "image/png": "[encoded data removed]",
      "text/plain": [
       "<Figure size 432x288 with 1 Axes>"
      ]
     },
     "metadata": {
      "needs_background": "light"
     },
     "output_type": "display_data"
    }
   ],
   "source": [
    "Q6_4.append(0)\n",
    "plt.barh(Q6_idx,Q6_4)\n",
    "plt.xlabel('# of participants')\n",
    "plt.title('Satisfaction with Written Resources')\n",
    "plt.tight_layout()"
   ]
  },
  {
   "cell_type": "code",
   "execution_count": 55,
   "id": "4eae03fd-21eb-4403-8f39-02ede9231f3c",
   "metadata": {
    "collapsed": true,
    "jupyter": {
     "outputs_hidden": true
    },
    "tags": []
   },
   "outputs": [
    {
     "data": {
      "text/plain": [
       "<BarContainer object of 6 artists>"
      ]
     },
     "execution_count": 55,
     "metadata": {},
     "output_type": "execute_result"
    },
    {
     "data": {
      "text/plain": [
       "Text(0.5, 0, '# of participants')"
      ]
     },
     "execution_count": 55,
     "metadata": {},
     "output_type": "execute_result"
    },
    {
     "data": {
      "text/plain": [
       "Text(0.5, 1.0, 'Satisfaction with Information from Community Organizations and Events')"
      ]
     },
     "execution_count": 55,
     "metadata": {},
     "output_type": "execute_result"
    },
    {
     "data": {
      "image/png": "[encoded data removed]",
      "text/plain": [
       "<Figure size 432x288 with 1 Axes>"
      ]
     },
     "metadata": {
      "needs_background": "light"
     },
     "output_type": "display_data"
    }
   ],
   "source": [
    "Q6_5.append(0)\n",
    "plt.barh(Q6_idx,Q6_5)\n",
    "plt.xlabel('# of participants')\n",
    "plt.title('Satisfaction with Information from Community Organizations and Events')\n",
    "plt.tight_layout()"
   ]
  },
  {
   "cell_type": "code",
   "execution_count": 56,
   "id": "dc1c996c-469a-42c4-94b3-c3fe93bfee93",
   "metadata": {
    "collapsed": true,
    "jupyter": {
     "outputs_hidden": true
    },
    "tags": []
   },
   "outputs": [
    {
     "name": "stdout",
     "output_type": "stream",
     "text": [
      "Use a computer\n",
      "124\n"
     ]
    },
    {
     "data": {
      "text/plain": [
       "A few times a year or less    0.306452\n",
       "A few times a month           0.233871\n",
       "A few times a week            0.233871\n",
       "Daily                         0.225806\n",
       "Name: Q7_1, dtype: float64"
      ]
     },
     "execution_count": 56,
     "metadata": {},
     "output_type": "execute_result"
    },
    {
     "name": "stdout",
     "output_type": "stream",
     "text": [
      "\n",
      "Use the internet\n",
      "122\n"
     ]
    },
    {
     "data": {
      "text/plain": [
       "Daily                         0.336066\n",
       "A few times a year or less    0.319672\n",
       "A few times a month           0.196721\n",
       "A few times a week            0.147541\n",
       "Name: Q7_2, dtype: float64"
      ]
     },
     "execution_count": 56,
     "metadata": {},
     "output_type": "execute_result"
    },
    {
     "name": "stdout",
     "output_type": "stream",
     "text": [
      "\n",
      "Shop online\n",
      "116\n"
     ]
    },
    {
     "data": {
      "text/plain": [
       "A few times a year or less    0.560345\n",
       "A few times a month           0.344828\n",
       "A few times a week            0.051724\n",
       "Daily                         0.043103\n",
       "Name: Q7_3, dtype: float64"
      ]
     },
     "execution_count": 56,
     "metadata": {},
     "output_type": "execute_result"
    },
    {
     "name": "stdout",
     "output_type": "stream",
     "text": [
      "\n",
      "Use social media\n",
      "123\n"
     ]
    },
    {
     "data": {
      "text/plain": [
       "Daily                         0.373984\n",
       "A few times a year or less    0.341463\n",
       "A few times a week            0.195122\n",
       "A few times a month           0.089431\n",
       "Name: Q7_4, dtype: float64"
      ]
     },
     "execution_count": 56,
     "metadata": {},
     "output_type": "execute_result"
    },
    {
     "name": "stdout",
     "output_type": "stream",
     "text": [
      "\n",
      "Look for health information\n",
      "122\n"
     ]
    },
    {
     "data": {
      "text/plain": [
       "A few times a month           0.360656\n",
       "A few times a year or less    0.319672\n",
       "A few times a week            0.221311\n",
       "Daily                         0.098361\n",
       "Name: Q7_5, dtype: float64"
      ]
     },
     "execution_count": 56,
     "metadata": {},
     "output_type": "execute_result"
    },
    {
     "name": "stdout",
     "output_type": "stream",
     "text": [
      "\n"
     ]
    }
   ],
   "source": [
    "# Q7 - Typical internet use\n",
    "\n",
    "Q7_idx = ['Daily','A few times a week','A few times a month',\n",
    "          'A few times a year or less']\n",
    "Q7_cols = ['Q7_1', 'Q7_2', 'Q7_3', 'Q7_4','Q7_5']\n",
    "Q7_dict = {1:\"Daily\", 2:\"A few times a week\", \n",
    "           3:\"A few times a month\", 4:\"A few times a year or less\"}\n",
    "Q7_cat = ['Use a computer','Use the internet','Shop online',\n",
    "          'Use social media','Look for health information']\n",
    "Q7_1 = list(base['Q7_1'].value_counts().sort_index())\n",
    "Q7_2 = list(base['Q7_2'].value_counts().sort_index())\n",
    "Q7_3 = list(base['Q7_3'].value_counts().sort_index())\n",
    "Q7_4 = list(base['Q7_4'].value_counts().sort_index())\n",
    "Q7_5 = list(base['Q7_5'].value_counts().sort_index())\n",
    "\n",
    "for i in range(5):\n",
    "    \n",
    "    print(Q7_cat[i])\n",
    "    print(base[Q7_cols[i]].value_counts().sum())\n",
    "    base[Q7_cols[i]].value_counts(normalize=True).rename(Q7_dict)\n",
    "    print()\n"
   ]
  },
  {
   "cell_type": "code",
   "execution_count": 57,
   "id": "b2ff39e5-9a54-419e-8c7a-f5a973b6b73e",
   "metadata": {
    "collapsed": true,
    "jupyter": {
     "outputs_hidden": true
    },
    "tags": []
   },
   "outputs": [
    {
     "data": {
      "text/plain": [
       "<BarContainer object of 4 artists>"
      ]
     },
     "execution_count": 57,
     "metadata": {},
     "output_type": "execute_result"
    },
    {
     "data": {
      "text/plain": [
       "Text(0.5, 0, '# of participants')"
      ]
     },
     "execution_count": 57,
     "metadata": {},
     "output_type": "execute_result"
    },
    {
     "data": {
      "text/plain": [
       "Text(0.5, 1.0, 'Typical Use of Computer')"
      ]
     },
     "execution_count": 57,
     "metadata": {},
     "output_type": "execute_result"
    },
    {
     "data": {
      "image/png": "[encoded data removed]",
      "text/plain": [
       "<Figure size 432x288 with 1 Axes>"
      ]
     },
     "metadata": {
      "needs_background": "light"
     },
     "output_type": "display_data"
    }
   ],
   "source": [
    "# Plot for Q7\n",
    "\n",
    "plt.barh(Q7_idx,Q7_1)\n",
    "plt.xlabel('# of participants')\n",
    "plt.title('Typical Use of Computer')\n",
    "plt.tight_layout()"
   ]
  },
  {
   "cell_type": "code",
   "execution_count": 58,
   "id": "680ae26c-3b96-48ee-a6ab-ddf00cb9fd7a",
   "metadata": {
    "collapsed": true,
    "jupyter": {
     "outputs_hidden": true
    },
    "tags": []
   },
   "outputs": [
    {
     "data": {
      "text/plain": [
       "<BarContainer object of 4 artists>"
      ]
     },
     "execution_count": 58,
     "metadata": {},
     "output_type": "execute_result"
    },
    {
     "data": {
      "text/plain": [
       "Text(0.5, 0, '# of participants')"
      ]
     },
     "execution_count": 58,
     "metadata": {},
     "output_type": "execute_result"
    },
    {
     "data": {
      "text/plain": [
       "Text(0.5, 1.0, 'Typical Use of Internet')"
      ]
     },
     "execution_count": 58,
     "metadata": {},
     "output_type": "execute_result"
    },
    {
     "data": {
      "image/png": "[encoded data removed]",
      "text/plain": [
       "<Figure size 432x288 with 1 Axes>"
      ]
     },
     "metadata": {
      "needs_background": "light"
     },
     "output_type": "display_data"
    }
   ],
   "source": [
    "#plt.barh(Q7_2)\n",
    "#plt.xlabel('# of participants')\n",
    "#plt.title('Typical Use of Internet')\n",
    "#plt.tight_layout()\n",
    "\n",
    "plt.barh(Q7_idx,Q7_2)\n",
    "plt.xlabel('# of participants')\n",
    "plt.title('Typical Use of Internet')\n",
    "plt.tight_layout()"
   ]
  },
  {
   "cell_type": "code",
   "execution_count": 59,
   "id": "e26c4696-93e3-408e-9b34-f5bd427a6367",
   "metadata": {
    "collapsed": true,
    "jupyter": {
     "outputs_hidden": true
    },
    "tags": []
   },
   "outputs": [
    {
     "data": {
      "text/plain": [
       "<BarContainer object of 4 artists>"
      ]
     },
     "execution_count": 59,
     "metadata": {},
     "output_type": "execute_result"
    },
    {
     "data": {
      "text/plain": [
       "Text(0.5, 0, '# of participants')"
      ]
     },
     "execution_count": 59,
     "metadata": {},
     "output_type": "execute_result"
    },
    {
     "data": {
      "text/plain": [
       "Text(0.5, 1.0, 'Shopping online')"
      ]
     },
     "execution_count": 59,
     "metadata": {},
     "output_type": "execute_result"
    },
    {
     "data": {
      "image/png": "[encoded data removed]",
      "text/plain": [
       "<Figure size 432x288 with 1 Axes>"
      ]
     },
     "metadata": {
      "needs_background": "light"
     },
     "output_type": "display_data"
    }
   ],
   "source": [
    "plt.barh(Q7_idx,Q7_3)\n",
    "plt.xlabel('# of participants')\n",
    "plt.title('Shopping online')\n",
    "plt.tight_layout()"
   ]
  },
  {
   "cell_type": "code",
   "execution_count": 60,
   "id": "ce675a4a-9a06-4371-8d83-6f2cba2c434c",
   "metadata": {
    "collapsed": true,
    "jupyter": {
     "outputs_hidden": true
    },
    "tags": []
   },
   "outputs": [
    {
     "data": {
      "text/plain": [
       "<BarContainer object of 4 artists>"
      ]
     },
     "execution_count": 60,
     "metadata": {},
     "output_type": "execute_result"
    },
    {
     "data": {
      "text/plain": [
       "Text(0.5, 0, '# of participants')"
      ]
     },
     "execution_count": 60,
     "metadata": {},
     "output_type": "execute_result"
    },
    {
     "data": {
      "text/plain": [
       "Text(0.5, 1.0, 'Typical Use of Social Media')"
      ]
     },
     "execution_count": 60,
     "metadata": {},
     "output_type": "execute_result"
    },
    {
     "data": {
      "image/png": "[encoded data removed]",
      "text/plain": [
       "<Figure size 432x288 with 1 Axes>"
      ]
     },
     "metadata": {
      "needs_background": "light"
     },
     "output_type": "display_data"
    }
   ],
   "source": [
    "plt.barh(Q7_idx,Q7_4)\n",
    "plt.xlabel('# of participants')\n",
    "plt.title('Typical Use of Social Media')\n",
    "plt.tight_layout()"
   ]
  },
  {
   "cell_type": "code",
   "execution_count": 61,
   "id": "2c06e073-b8b9-4a46-9389-6aae9effcb40",
   "metadata": {
    "collapsed": true,
    "jupyter": {
     "outputs_hidden": true
    },
    "tags": []
   },
   "outputs": [
    {
     "data": {
      "text/plain": [
       "<BarContainer object of 4 artists>"
      ]
     },
     "execution_count": 61,
     "metadata": {},
     "output_type": "execute_result"
    },
    {
     "data": {
      "text/plain": [
       "Text(0.5, 0, '# of participants')"
      ]
     },
     "execution_count": 61,
     "metadata": {},
     "output_type": "execute_result"
    },
    {
     "data": {
      "text/plain": [
       "Text(0.5, 1.0, 'Looking for Health Information online')"
      ]
     },
     "execution_count": 61,
     "metadata": {},
     "output_type": "execute_result"
    },
    {
     "data": {
      "image/png": "[encoded data removed]",
      "text/plain": [
       "<Figure size 432x288 with 1 Axes>"
      ]
     },
     "metadata": {
      "needs_background": "light"
     },
     "output_type": "display_data"
    }
   ],
   "source": [
    "plt.barh(Q7_idx,Q7_5)\n",
    "plt.xlabel('# of participants')\n",
    "plt.title('Looking for Health Information online')\n",
    "plt.tight_layout()"
   ]
  },
  {
   "cell_type": "code",
   "execution_count": 62,
   "id": "6b60946c-34e9-47d5-a615-9869fcf44e37",
   "metadata": {
    "collapsed": true,
    "jupyter": {
     "outputs_hidden": true
    },
    "tags": []
   },
   "outputs": [
    {
     "data": {
      "text/plain": [
       "([<matplotlib.patches.Wedge at 0x7f81287946d0>,\n",
       "  <matplotlib.patches.Wedge at 0x7f8128794d90>],\n",
       " [Text(-1.091727488058581, 0.134651742719138, 'Yes'),\n",
       "  Text(1.091727488058581, -0.13465174271913763, 'No')],\n",
       " [Text(-0.595487720759226, 0.07344640511952981, '96.1%'),\n",
       "  Text(0.595487720759226, -0.07344640511952961, '3.9%')])"
      ]
     },
     "execution_count": 62,
     "metadata": {},
     "output_type": "execute_result"
    },
    {
     "data": {
      "text/plain": [
       "Text(0.5, 1.0, 'Do you have a cell phone?')"
      ]
     },
     "execution_count": 62,
     "metadata": {},
     "output_type": "execute_result"
    },
    {
     "data": {
      "image/png": "[encoded data removed]",
      "text/plain": [
       "<Figure size 432x288 with 1 Axes>"
      ]
     },
     "metadata": {},
     "output_type": "display_data"
    }
   ],
   "source": [
    "# Q8\n",
    "\n",
    "Q8_idx = ['Yes','No']\n",
    "Q8 = list(base['Q8'].value_counts(normalize=True).sort_index())\n",
    "\n",
    "plt.pie(Q8,labels=Q8_idx,autopct='%1.1f%%')\n",
    "plt.title('Do you have a cell phone?')\n",
    "plt.tight_layout()\n"
   ]
  },
  {
   "cell_type": "code",
   "execution_count": 63,
   "id": "1967ef59-13d8-42a3-b9e1-9dde0046eded",
   "metadata": {
    "collapsed": true,
    "jupyter": {
     "outputs_hidden": true
    },
    "tags": []
   },
   "outputs": [
    {
     "data": {
      "text/plain": [
       "([<matplotlib.patches.Wedge at 0x7f812884b730>,\n",
       "  <matplotlib.patches.Wedge at 0x7f812884be50>],\n",
       " [Text(-0.8558393507340738, 0.6910419710372729, 'Smart phone'),\n",
       "  Text(0.8558393830840819, -0.6910419309725412, 'Not a smart phone')],\n",
       " [Text(-0.4668214640367675, 0.37693198420214885, '78.4%'),\n",
       "  Text(0.4668214816822264, -0.37693196234865883, '21.6%')])"
      ]
     },
     "execution_count": 63,
     "metadata": {},
     "output_type": "execute_result"
    },
    {
     "data": {
      "text/plain": [
       "Text(0.5, 1.0, 'If yes, what kind of cell phone?')"
      ]
     },
     "execution_count": 63,
     "metadata": {},
     "output_type": "execute_result"
    },
    {
     "data": {
      "image/png": "[encoded data removed]",
      "text/plain": [
       "<Figure size 432x288 with 1 Axes>"
      ]
     },
     "metadata": {},
     "output_type": "display_data"
    }
   ],
   "source": [
    "# Q9:\n",
    "Q9_idx = ['Smart phone','Not a smart phone']\n",
    "Q9 = list(base['Q9'].value_counts(normalize=True).sort_index())\n",
    "\n",
    "plt.pie(Q9,labels=Q9_idx,autopct='%1.1f%%')\n",
    "plt.title('If yes, what kind of cell phone?')\n",
    "plt.tight_layout()"
   ]
  },
  {
   "cell_type": "code",
   "execution_count": 64,
   "id": "9bf3f54e-c766-451a-8671-13b24d68b1ea",
   "metadata": {
    "collapsed": true,
    "jupyter": {
     "outputs_hidden": true
    },
    "tags": []
   },
   "outputs": [
    {
     "data": {
      "text/plain": [
       "([<matplotlib.patches.Wedge at 0x7f812890cb50>,\n",
       "  <matplotlib.patches.Wedge at 0x7f8128982280>],\n",
       " [Text(0.2979244976471252, 1.0588866765153429, 'Yes'),\n",
       "  Text(-0.297924398506998, -1.0588867044090429, 'No')],\n",
       " [Text(0.16250427144388643, 0.5775745508265506, '41.3%'),\n",
       "  Text(-0.1625042173674534, -0.5775745660412961, '58.7%')])"
      ]
     },
     "execution_count": 64,
     "metadata": {},
     "output_type": "execute_result"
    },
    {
     "data": {
      "text/plain": [
       "Text(0.5, 1.0, 'Do you have a computer?')"
      ]
     },
     "execution_count": 64,
     "metadata": {},
     "output_type": "execute_result"
    },
    {
     "data": {
      "image/png": "[encoded data removed]",
      "text/plain": [
       "<Figure size 432x288 with 1 Axes>"
      ]
     },
     "metadata": {},
     "output_type": "display_data"
    }
   ],
   "source": [
    "# Q10:\n",
    "Q10_idx = ['Yes','No']\n",
    "Q10 = list(base['Q10'].value_counts(normalize=True).sort_index())\n",
    "\n",
    "plt.pie(Q10,labels=Q10_idx,autopct='%1.1f%%')\n",
    "plt.title('Do you have a computer?')\n",
    "plt.tight_layout()"
   ]
  },
  {
   "cell_type": "code",
   "execution_count": 65,
   "id": "900cedd0-3912-40cf-a465-7637ff8bf0bd",
   "metadata": {
    "collapsed": true,
    "jupyter": {
     "outputs_hidden": true
    },
    "tags": []
   },
   "outputs": [
    {
     "data": {
      "text/plain": [
       "([<matplotlib.patches.Wedge at 0x7f8128a3d040>,\n",
       "  <matplotlib.patches.Wedge at 0x7f8128a3d730>],\n",
       " [Text(0.30260574000021034, 1.0575583984437575, 'Yes'),\n",
       "  Text(-0.3026058390159723, -1.0575583701117588, 'No')],\n",
       " [Text(0.1650576763637511, 0.5768500355147768, '41.1%'),\n",
       "  Text(-0.16505773037234853, -0.5768500200609592, '58.9%')])"
      ]
     },
     "execution_count": 65,
     "metadata": {},
     "output_type": "execute_result"
    },
    {
     "data": {
      "text/plain": [
       "Text(0.5, 1.0, 'Do you have a tablet?')"
      ]
     },
     "execution_count": 65,
     "metadata": {},
     "output_type": "execute_result"
    },
    {
     "data": {
      "image/png": "[encoded data removed]",
      "text/plain": [
       "<Figure size 432x288 with 1 Axes>"
      ]
     },
     "metadata": {},
     "output_type": "display_data"
    }
   ],
   "source": [
    "# Q11:\n",
    "Q11_idx = ['Yes','No']\n",
    "Q11 = list(base['Q11'].value_counts(normalize=True).sort_index())\n",
    "\n",
    "plt.pie(Q11,labels=Q11_idx,autopct='%1.1f%%')\n",
    "plt.title('Do you have a tablet?')\n",
    "plt.tight_layout()"
   ]
  },
  {
   "cell_type": "code",
   "execution_count": 66,
   "id": "2162dd90-c19e-406b-b6bc-507ec6fd6d61",
   "metadata": {
    "collapsed": true,
    "jupyter": {
     "outputs_hidden": true
    },
    "tags": []
   },
   "outputs": [
    {
     "data": {
      "text/plain": [
       "([<matplotlib.patches.Wedge at 0x7f8128ae2430>,\n",
       "  <matplotlib.patches.Wedge at 0x7f8128ae2af0>],\n",
       " [Text(-0.7925737390259934, 0.7627757653507069, 'Yes'),\n",
       "  Text(0.7925737390259934, -0.762775765350707, 'No')],\n",
       " [Text(-0.4323129485596327, 0.4160595083731128, '75.6%'),\n",
       "  Text(0.4323129485596327, -0.41605950837311284, '24.4%')])"
      ]
     },
     "execution_count": 66,
     "metadata": {},
     "output_type": "execute_result"
    },
    {
     "data": {
      "text/plain": [
       "Text(0.5, 1.0, 'Do you have internet service at home?')"
      ]
     },
     "execution_count": 66,
     "metadata": {},
     "output_type": "execute_result"
    },
    {
     "data": {
      "image/png": "[encoded data removed]",
      "text/plain": [
       "<Figure size 432x288 with 1 Axes>"
      ]
     },
     "metadata": {},
     "output_type": "display_data"
    }
   ],
   "source": [
    "# Q12:\n",
    "Q12_idx = ['Yes','No']\n",
    "Q12 = list(base['Q12'].value_counts(normalize=True).sort_index())\n",
    "\n",
    "plt.pie(Q12,labels=Q12_idx,autopct='%1.1f%%')\n",
    "plt.title('Do you have internet service at home?')\n",
    "plt.tight_layout()"
   ]
  },
  {
   "cell_type": "code",
   "execution_count": 67,
   "id": "3efe6081-ba56-412a-a145-d2cfd78b0688",
   "metadata": {
    "collapsed": true,
    "jupyter": {
     "outputs_hidden": true
    },
    "tags": []
   },
   "outputs": [
    {
     "data": {
      "text/plain": [
       "([<matplotlib.patches.Wedge at 0x7f8128b86790>,\n",
       "  <matplotlib.patches.Wedge at 0x7f8128b86e80>],\n",
       " [Text(0.30260574000021034, 1.0575583984437575, 'At Home'),\n",
       "  Text(-0.3026058390159723, -1.0575583701117588, 'Other')],\n",
       " [Text(0.1650576763637511, 0.5768500355147768, '41.1%'),\n",
       "  Text(-0.16505773037234853, -0.5768500200609592, '58.9%')])"
      ]
     },
     "execution_count": 67,
     "metadata": {},
     "output_type": "execute_result"
    },
    {
     "data": {
      "text/plain": [
       "Text(0.5, 1.0, 'Where do you frequently use a computer?')"
      ]
     },
     "execution_count": 67,
     "metadata": {},
     "output_type": "execute_result"
    },
    {
     "data": {
      "image/png": "[encoded data removed]",
      "text/plain": [
       "<Figure size 432x288 with 1 Axes>"
      ]
     },
     "metadata": {},
     "output_type": "display_data"
    }
   ],
   "source": [
    "# Q13:\n",
    "Q13_idx = ['At Home','Other']\n",
    "Q13 = list(base['Q11'].value_counts(normalize=True).sort_index())\n",
    "\n",
    "plt.pie(Q13,labels=Q13_idx,autopct='%1.1f%%')\n",
    "plt.title('Where do you frequently use a computer?')\n",
    "plt.tight_layout()"
   ]
  },
  {
   "cell_type": "code",
   "execution_count": 68,
   "id": "2bbcf356-75ae-4fe7-95f7-ef9ca0514014",
   "metadata": {
    "collapsed": true,
    "jupyter": {
     "outputs_hidden": true
    },
    "tags": []
   },
   "outputs": [
    {
     "data": {
      "text/plain": [
       "<BarContainer object of 5 artists>"
      ]
     },
     "execution_count": 68,
     "metadata": {},
     "output_type": "execute_result"
    },
    {
     "data": {
      "text/plain": [
       "Text(0.5, 1.0, 'Self-reported Ability to Use Internet')"
      ]
     },
     "execution_count": 68,
     "metadata": {},
     "output_type": "execute_result"
    },
    {
     "data": {
      "text/plain": [
       "Text(0, 0.5, '# of participants')"
      ]
     },
     "execution_count": 68,
     "metadata": {},
     "output_type": "execute_result"
    },
    {
     "data": {
      "image/png": "[encoded data removed]",
      "text/plain": [
       "<Figure size 432x288 with 1 Axes>"
      ]
     },
     "metadata": {
      "needs_background": "light"
     },
     "output_type": "display_data"
    }
   ],
   "source": [
    "#Q14\n",
    "\n",
    "Q14_idx = ['None','Poor','Moderate','Good','Excellent']\n",
    "Q14 = list(base['Q14'].value_counts().sort_index())\n",
    "\n",
    "plt.bar(Q14_idx,Q14)\n",
    "plt.title('Self-reported Ability to Use Internet')\n",
    "plt.ylabel('# of participants')\n",
    "plt.tight_layout()"
   ]
  },
  {
   "cell_type": "code",
   "execution_count": null,
   "id": "d52a24d7-4393-4eac-b35c-488d208c9fea",
   "metadata": {},
   "outputs": [],
   "source": []
  },
  {
   "cell_type": "code",
   "execution_count": null,
   "id": "7afab124-dead-4643-af91-ad6c9ec530ca",
   "metadata": {},
   "outputs": [],
   "source": []
  }
 ],
 "metadata": {
  "kernelspec": {
   "display_name": "Python 3",
   "language": "python",
   "name": "python3"
  },
  "language_info": {
   "codemirror_mode": {
    "name": "ipython",
    "version": 3
   },
   "file_extension": ".py",
   "mimetype": "text/x-python",
   "name": "python",
   "nbconvert_exporter": "python",
   "pygments_lexer": "ipython3",
   "version": "3.8.8"
  }
 },
 "nbformat": 4,
 "nbformat_minor": 5
}

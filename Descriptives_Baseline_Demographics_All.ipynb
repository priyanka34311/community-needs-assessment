{
 "cells": [
  {
   "cell_type": "code",
   "execution_count": 1,
   "id": "00cf0372-8f03-44ad-9f20-b9ec60efc336",
   "metadata": {},
   "outputs": [],
   "source": [
    "# Set up environment\n",
    "\n",
    "from IPython.core.interactiveshell import InteractiveShell\n",
    "InteractiveShell.ast_node_interactivity = \"all\"\n",
    "\n",
    "import pandas as pd\n",
    "import numpy as np\n",
    "import seaborn as sns\n",
    "from matplotlib import pyplot as plt\n",
    "import math\n",
    "\n",
    "%matplotlib inline"
   ]
  },
  {
   "cell_type": "code",
   "execution_count": 2,
   "id": "4d61dd65-3458-4c1b-b909-116436ee662a",
   "metadata": {},
   "outputs": [
    {
     "data": {
      "text/plain": [
       "(62, 109)"
      ]
     },
     "execution_count": 2,
     "metadata": {},
     "output_type": "execute_result"
    },
    {
     "data": {
      "text/plain": [
       "(66, 105)"
      ]
     },
     "execution_count": 2,
     "metadata": {},
     "output_type": "execute_result"
    }
   ],
   "source": [
    "# Load data\n",
    "\n",
    "file1 = 'V2_Cleaned_Baseline_Diabetes.csv'\n",
    "diab = pd.read_csv(file1,na_values=[-999,'999',-888,'-888'])\n",
    "diab.shape\n",
    "\n",
    "file2 = 'V2_Cleaned_Baseline_Depression.csv'\n",
    "dep = pd.read_csv(file2,na_values=[-999,'999',-888,'-888'])\n",
    "dep.shape"
   ]
  },
  {
   "cell_type": "code",
   "execution_count": 3,
   "id": "1cd02a1d-8c69-41cc-8980-76d1d77f8cb8",
   "metadata": {},
   "outputs": [],
   "source": [
    "base_cols = ['Q3_1', 'Q3_2', 'Q3_3', 'Q3_4', 'Q3_5',\n",
    "     'Q6_1', 'Q6_2', 'Q6_3', 'Q6_4', 'Q6_5', 'Q7_1', 'Q7_2',\n",
    "       'Q7_3', 'Q7_4', 'Q7_5', 'Q8', 'Q9', 'Q10', 'Q11', 'Q12', 'Q13',\n",
    "       'Q13_2_TEXT', 'Q14', 'Q18','Q32', 'Q19', 'Q20', 'Q21', 'Q21_3_TEXT', \n",
    "        'Q22', 'Q23', 'Q24','Q25','Q27', 'Q28', \n",
    "             'Q29', 'Q30', 'Q30_2_TEXT', 'Q31']"
   ]
  },
  {
   "cell_type": "code",
   "execution_count": 4,
   "id": "82859b4a-bf10-4b4b-966e-b52ac4eda5a3",
   "metadata": {
    "tags": []
   },
   "outputs": [
    {
     "data": {
      "text/plain": [
       "(62, 39)"
      ]
     },
     "execution_count": 4,
     "metadata": {},
     "output_type": "execute_result"
    },
    {
     "data": {
      "text/plain": [
       "(66, 39)"
      ]
     },
     "execution_count": 4,
     "metadata": {},
     "output_type": "execute_result"
    },
    {
     "data": {
      "text/plain": [
       "(128, 39)"
      ]
     },
     "execution_count": 4,
     "metadata": {},
     "output_type": "execute_result"
    }
   ],
   "source": [
    "# Retrieve dataset for baseline descriptive analysis\n",
    "\n",
    "base_diab = diab[base_cols]\n",
    "base_diab.shape\n",
    "\n",
    "base_dep = dep[base_cols]\n",
    "base_dep.shape\n",
    "\n",
    "#base_diab.columns.values == base_dep.columns.values\n",
    "\n",
    "base = pd.concat([base_diab,base_dep])\n",
    "base.shape"
   ]
  },
  {
   "cell_type": "code",
   "execution_count": 5,
   "id": "7db87625-f764-43a0-b6cf-9919120e0769",
   "metadata": {
    "collapsed": true,
    "jupyter": {
     "outputs_hidden": true
    },
    "tags": []
   },
   "outputs": [
    {
     "name": "stdout",
     "output_type": "stream",
     "text": [
      "['Total', 127, 'Missing', 1]\n"
     ]
    },
    {
     "data": {
      "text/plain": [
       "18-29    0.015748\n",
       "30-39    0.086614\n",
       "40-49    0.055118\n",
       "50-59    0.149606\n",
       "60-69    0.354331\n",
       "70-79    0.283465\n",
       "80+      0.055118\n",
       "Name: Q18, dtype: float64"
      ]
     },
     "execution_count": 5,
     "metadata": {},
     "output_type": "execute_result"
    },
    {
     "data": {
      "text/plain": [
       "<BarContainer object of 7 artists>"
      ]
     },
     "execution_count": 5,
     "metadata": {},
     "output_type": "execute_result"
    },
    {
     "data": {
      "text/plain": [
       "Text(0, 0.5, 'Count')"
      ]
     },
     "execution_count": 5,
     "metadata": {},
     "output_type": "execute_result"
    },
    {
     "data": {
      "text/plain": [
       "Text(0.5, 1.0, 'Age range of Participants')"
      ]
     },
     "execution_count": 5,
     "metadata": {},
     "output_type": "execute_result"
    },
    {
     "data": {
      "image/png": "[encoded data removed]",
      "text/plain": [
       "<Figure size 432x288 with 1 Axes>"
      ]
     },
     "metadata": {
      "needs_background": "light"
     },
     "output_type": "display_data"
    }
   ],
   "source": [
    "# Q18 - age\n",
    "\n",
    "Q18_idx =['18-29','30-39','40-49','50-59','60-69','70-79','80+']\n",
    "Q18_dict = {1:'18-29',2: '30-39',3: '40-49',4:'50-59',5:'60-69',6:'70-79',7:'80+'}\n",
    "Q18 = list(base['Q18'].value_counts().sort_index())\n",
    "\n",
    "Q18_n = base['Q18'].value_counts().sum()\n",
    "Q18_missing = 128-Q18_n\n",
    "print(['Total',Q18_n,'Missing',Q18_missing])\n",
    "base['Q18'].value_counts(normalize=True).sort_index().rename(Q18_dict)\n",
    "\n",
    "plt.bar(Q18_idx,Q18)\n",
    "plt.ylabel('Count')\n",
    "plt.title('Age range of Participants')\n",
    "plt.tight_layout()"
   ]
  },
  {
   "cell_type": "code",
   "execution_count": 6,
   "id": "5266669e-dae7-47c8-ae48-851553647a31",
   "metadata": {
    "collapsed": true,
    "jupyter": {
     "outputs_hidden": true
    },
    "tags": []
   },
   "outputs": [
    {
     "name": "stdout",
     "output_type": "stream",
     "text": [
      "['Total', 121, 'Missing', 7]\n"
     ]
    },
    {
     "data": {
      "text/plain": [
       "Male      0.206612\n",
       "Female    0.793388\n",
       "Name: Q32, dtype: float64"
      ]
     },
     "execution_count": 6,
     "metadata": {},
     "output_type": "execute_result"
    },
    {
     "data": {
      "text/plain": [
       "([<matplotlib.patches.Wedge at 0x7fd09f11c820>,\n",
       "  <matplotlib.patches.Wedge at 0x7fd09f11cf10>,\n",
       "  <matplotlib.patches.Wedge at 0x7fd09f12a5e0>],\n",
       " [Text(0.8762980049001194, 0.6649073669377339, 'Male'),\n",
       "  Text(-0.8762980049001194, -0.6649073669377339, 'Female'),\n",
       "  Text(1.1, -2.6942229581241775e-16, 'Other')],\n",
       " [Text(0.47798072994551966, 0.36267674560240026, '20.7%'),\n",
       "  Text(-0.47798072994551966, -0.36267674560240026, '79.3%'),\n",
       "  Text(0.6, -1.4695761589768238e-16, '0.0%')])"
      ]
     },
     "execution_count": 6,
     "metadata": {},
     "output_type": "execute_result"
    },
    {
     "data": {
      "text/plain": [
       "Text(0.5, 1.0, 'Sex of Participants')"
      ]
     },
     "execution_count": 6,
     "metadata": {},
     "output_type": "execute_result"
    },
    {
     "data": {
      "image/png": "[encoded data removed]",
      "text/plain": [
       "<Figure size 432x288 with 1 Axes>"
      ]
     },
     "metadata": {},
     "output_type": "display_data"
    }
   ],
   "source": [
    "# Q32 - Sex\n",
    "\n",
    "Q32_idx =['Male','Female','Other']\n",
    "Q32_dict = {1:'Male',2:'Female',3:'Other'}\n",
    "Q32 = list(base['Q32'].value_counts().sort_index())\n",
    "\n",
    "Q32_n = base['Q32'].value_counts().sum()\n",
    "Q32_missing = 128-Q32_n\n",
    "print(['Total',Q32_n,'Missing',Q32_missing])\n",
    "base['Q32'].value_counts(normalize=True).sort_index().rename(Q32_dict)\n",
    "\n",
    "Q32.append(0)\n",
    "plt.pie(Q32,labels=Q32_idx,autopct='%1.1f%%')\n",
    "plt.title('Sex of Participants')\n",
    "plt.tight_layout()"
   ]
  },
  {
   "cell_type": "code",
   "execution_count": 7,
   "id": "9a1e8866-c8d3-4adf-b422-c06a9bc4088a",
   "metadata": {
    "collapsed": true,
    "jupyter": {
     "outputs_hidden": true
    },
    "tags": []
   },
   "outputs": [
    {
     "name": "stdout",
     "output_type": "stream",
     "text": [
      "['Total', 125, 'Missing', 3]\n"
     ]
    },
    {
     "data": {
      "text/plain": [
       "1,2,4    0.008\n",
       "2        0.008\n",
       "3        0.056\n",
       "3,4      0.024\n",
       "4        0.760\n",
       "4,5      0.024\n",
       "5        0.120\n",
       "Name: Q19, dtype: float64"
      ]
     },
     "execution_count": 7,
     "metadata": {},
     "output_type": "execute_result"
    },
    {
     "data": {
      "text/plain": [
       "([<matplotlib.patches.Wedge at 0x7fd09f2369d0>,\n",
       "  <matplotlib.patches.Wedge at 0x7fd09f243100>,\n",
       "  <matplotlib.patches.Wedge at 0x7fd09f243790>,\n",
       "  <matplotlib.patches.Wedge at 0x7fd09f243e20>,\n",
       "  <matplotlib.patches.Wedge at 0x7fd09f2514f0>,\n",
       "  <matplotlib.patches.Wedge at 0x7fd09f251b80>,\n",
       "  <matplotlib.patches.Wedge at 0x7fd09f25d1f0>],\n",
       " [Text(2.749131520446578, 0.06910776575092949, 'American Indian/Alaska Native, Asian/Pacific Islander, Latino/Hispanic'),\n",
       "  Text(2.7421869749748424, 0.2071487250221993, 'Asian/Pacific Islander'),\n",
       "  Text(2.6455760892014437, 0.7506178496715857, 'Black/African American'),\n",
       "  Text(2.3757893747177743, 1.3849638432024598, 'Black/African American, Latino/Hispanic'),\n",
       "  Text(-2.7187922926528656, 0.4131204054647688, 'Latino/Hispanic'),\n",
       "  Text(1.8571651365024708, -2.0281611513288973, 'Latino/Hispanic, White'),\n",
       "  Text(2.5568852854841326, -1.0123426479580546, 'White')],\n",
       " [Text(1.4995262838799517, 0.037695144955052454, '0.8%'),\n",
       "  Text(1.4957383499862777, 0.11299021364847235, '0.8%'),\n",
       "  Text(1.4430415032007873, 0.4094279180026831, '5.6%'),\n",
       "  Text(1.2958851134824223, 0.755434823564978, '2.4%'),\n",
       "  Text(-1.4829776141742903, 0.22533840298078298, '76.0%'),\n",
       "  Text(1.0129991653649841, -1.1062697189066713, '2.4%'),\n",
       "  Text(1.3946647011731632, -0.5521868988862116, '12.0%')])"
      ]
     },
     "execution_count": 7,
     "metadata": {},
     "output_type": "execute_result"
    },
    {
     "data": {
      "image/png": "[encoded data removed]",
      "text/plain": [
       "<Figure size 432x288 with 1 Axes>"
      ]
     },
     "metadata": {},
     "output_type": "display_data"
    }
   ],
   "source": [
    "# Race/ethnicity\n",
    "\n",
    "Q19_idx = [\"American Indian/Alaska Native, Asian/Pacific Islander, Latino/Hispanic\",\n",
    "          \"Asian/Pacific Islander\", \"Black/African American\", \n",
    "           \"Black/African American, Latino/Hispanic\",\"Latino/Hispanic\", \n",
    "          \"Latino/Hispanic, White\", \"White\"]\n",
    "Q19_dict = {1:\"American Indian/Alaska Native, Asian/Pacific Islander, Latino/Hispanic\",\n",
    "           2: \"Asian/Pacific Islander\", 3: \"Black/African American\",\n",
    "           4: \"Black/African American, Latino/Hispanic\",\n",
    "           5:\"Latino/Hispanic\", 6:\"Latino/Hispanic, White\", 7:\"White\"  }\n",
    "Q19 = list(base['Q19'].value_counts().sort_index())\n",
    "\n",
    "Q19_n = base['Q19'].value_counts().sum()\n",
    "Q19_missing = 128-Q19_n\n",
    "print(['Total',Q19_n,'Missing',Q19_missing])\n",
    "base['Q19'].value_counts(normalize=True).sort_index().rename(Q19_dict)\n",
    "\n",
    "plt.pie(Q19,radius = 2.5,labels=Q19_idx,autopct='%1.1f%%')\n",
    "# plt.legend(labels=Q19_idx)"
   ]
  },
  {
   "cell_type": "code",
   "execution_count": 8,
   "id": "73f54da0-44c6-4428-ba73-04e2c9c98b57",
   "metadata": {
    "collapsed": true,
    "jupyter": {
     "outputs_hidden": true
    },
    "tags": []
   },
   "outputs": [
    {
     "name": "stdout",
     "output_type": "stream",
     "text": [
      "['Total', 109, 'Missing', 19]\n"
     ]
    },
    {
     "data": {
      "text/plain": [
       "11th grade or less           0.266055\n",
       "High school or GED           0.266055\n",
       "Some college                 0.229358\n",
       "Bachelor's Degree            0.146789\n",
       "Master's degree or higher    0.091743\n",
       "Name: Q20, dtype: float64"
      ]
     },
     "execution_count": 8,
     "metadata": {},
     "output_type": "execute_result"
    },
    {
     "data": {
      "text/plain": [
       "<BarContainer object of 5 artists>"
      ]
     },
     "execution_count": 8,
     "metadata": {},
     "output_type": "execute_result"
    },
    {
     "data": {
      "text/plain": [
       "Text(0.5, 0, 'Count')"
      ]
     },
     "execution_count": 8,
     "metadata": {},
     "output_type": "execute_result"
    },
    {
     "data": {
      "text/plain": [
       "Text(0.5, 1.0, 'Highest level of education completed')"
      ]
     },
     "execution_count": 8,
     "metadata": {},
     "output_type": "execute_result"
    },
    {
     "data": {
      "image/png": "[encoded data removed]",
      "text/plain": [
       "<Figure size 432x288 with 1 Axes>"
      ]
     },
     "metadata": {
      "needs_background": "light"
     },
     "output_type": "display_data"
    }
   ],
   "source": [
    "#Q20\n",
    "\n",
    "Q20_idx = ['11th grade or less','High school or GED','Some college', \n",
    "           \"Bachelor's Degree\",\"Master's degree or higher\"]\n",
    "Q20_dict = {1:'11th grade or less',2:'High school or GED',3:'Some college', \n",
    "           4:\"Bachelor's Degree\",5:\"Master's degree or higher\"}\n",
    "Q20 = list(base['Q20'].value_counts().sort_index())\n",
    "\n",
    "Q20_n = base['Q20'].value_counts().sum()\n",
    "Q20_missing = 128-Q20_n\n",
    "print(['Total',Q20_n,'Missing',Q20_missing])\n",
    "base['Q20'].value_counts(normalize=True).sort_index().rename(Q20_dict)\n",
    "\n",
    "plt.barh(Q20_idx,Q20)\n",
    "plt.xlabel('Count')\n",
    "\n",
    "plt.title('Highest level of education completed')\n",
    "plt.tight_layout()"
   ]
  },
  {
   "cell_type": "code",
   "execution_count": 9,
   "id": "89772888-e04b-4267-ad7a-44c423acfc0f",
   "metadata": {
    "collapsed": true,
    "jupyter": {
     "outputs_hidden": true
    },
    "tags": []
   },
   "outputs": [
    {
     "name": "stdout",
     "output_type": "stream",
     "text": [
      "['Total', 126, 'Missing', 2]\n"
     ]
    },
    {
     "data": {
      "text/plain": [
       "English    0.349206\n",
       "Spanish    0.650794\n",
       "Name: Q21, dtype: float64"
      ]
     },
     "execution_count": 9,
     "metadata": {},
     "output_type": "execute_result"
    },
    {
     "data": {
      "text/plain": [
       "([<matplotlib.patches.Wedge at 0x7fd09f6a1ee0>,\n",
       "  <matplotlib.patches.Wedge at 0x7fd09f6af610>,\n",
       "  <matplotlib.patches.Wedge at 0x7fd09f6afca0>],\n",
       " [Text(0.5018316954487894, 0.9788590038626573, 'English'),\n",
       "  Text(-0.5018316038013927, -0.9788590508475274, 'Spanish'),\n",
       "  Text(1.0999999999999808, 2.0597886516129914e-07, 'Other')],\n",
       " [Text(0.27372637933570326, 0.5339230930159948, '34.9%'),\n",
       "  Text(-0.27372632934621416, -0.5339231186441058, '65.1%'),\n",
       "  Text(0.5999999999999894, 1.1235210826979952e-07, '0.0%')])"
      ]
     },
     "execution_count": 9,
     "metadata": {},
     "output_type": "execute_result"
    },
    {
     "data": {
      "text/plain": [
       "Text(0.5, 1.0, 'Preferred Language')"
      ]
     },
     "execution_count": 9,
     "metadata": {},
     "output_type": "execute_result"
    },
    {
     "data": {
      "image/png": "[encoded data removed]",
      "text/plain": [
       "<Figure size 432x288 with 1 Axes>"
      ]
     },
     "metadata": {},
     "output_type": "display_data"
    }
   ],
   "source": [
    "Q21_idx = ['English','Spanish','Other']\n",
    "Q21_dict = {1:'English',2:'Spanish',3:'Other'}\n",
    "\n",
    "Q21 = list(base['Q21'].value_counts().sort_index())\n",
    "Q21.append(0)\n",
    "Q21_n = base['Q21'].value_counts().sum()\n",
    "Q21_missing = 128-Q21_n\n",
    "print(['Total',Q21_n,'Missing',Q21_missing])\n",
    "base['Q21'].value_counts(normalize=True).sort_index().rename(Q21_dict)\n",
    "\n",
    "plt.pie(Q21,labels=Q21_idx,autopct='%1.1f%%')\n",
    "plt.title('Preferred Language')\n",
    "plt.tight_layout()"
   ]
  },
  {
   "cell_type": "code",
   "execution_count": 10,
   "id": "cd3f5e39-acb1-454f-9fee-86b180573c8c",
   "metadata": {
    "collapsed": true,
    "jupyter": {
     "outputs_hidden": true
    },
    "tags": []
   },
   "outputs": [
    {
     "name": "stdout",
     "output_type": "stream",
     "text": [
      "['Total', 124, 'Missing', 4]\n"
     ]
    },
    {
     "data": {
      "text/plain": [
       "10032.0    0.266129\n",
       "10033.0    0.338710\n",
       "10034.0    0.080645\n",
       "10040.0    0.314516\n",
       "Name: Q22, dtype: float64"
      ]
     },
     "execution_count": 10,
     "metadata": {},
     "output_type": "execute_result"
    },
    {
     "data": {
      "text/plain": [
       "([<matplotlib.patches.Wedge at 0x7fd09f786ac0>,\n",
       "  <matplotlib.patches.Wedge at 0x7fd09f7931f0>,\n",
       "  <matplotlib.patches.Wedge at 0x7fd09f793880>,\n",
       "  <matplotlib.patches.Wedge at 0x7fd09f793f10>],\n",
       " [Text(0.7374232913747002, 0.8162149774036889, '10032'),\n",
       "  Text(-1.0108536386373126, 0.4337913337697117, '10033'),\n",
       "  Text(-0.6733164822844275, -0.8698533868900691, '10034'),\n",
       "  Text(0.6053220783023535, -0.9184689333449005, '10040')],\n",
       " [Text(0.40223088620438185, 0.44520816949292114, '26.6%'),\n",
       "  Text(-0.5513747119839887, 0.23661345478347906, '33.9%'),\n",
       "  Text(-0.3672635357915059, -0.47446548375821945, '8.1%'),\n",
       "  Text(0.33017567907401096, -0.5009830545517638, '31.5%')])"
      ]
     },
     "execution_count": 10,
     "metadata": {},
     "output_type": "execute_result"
    },
    {
     "data": {
      "text/plain": [
       "Text(0.5, 1.0, 'Zip code')"
      ]
     },
     "execution_count": 10,
     "metadata": {},
     "output_type": "execute_result"
    },
    {
     "data": {
      "image/png": "[encoded data removed]",
      "text/plain": [
       "<Figure size 432x288 with 1 Axes>"
      ]
     },
     "metadata": {},
     "output_type": "display_data"
    }
   ],
   "source": [
    "Q22_idx = ['10032','10033','10034','10040']\n",
    "Q22_dict = {1:'10032',2:'10033',3:'10034',4:'10040'}\n",
    "Q22= list(base['Q22'].value_counts().sort_index())\n",
    "\n",
    "Q22_n = base['Q22'].value_counts().sum()\n",
    "Q22_missing = 128-Q22_n\n",
    "print(['Total',Q22_n,'Missing',Q22_missing])\n",
    "base['Q22'].value_counts(normalize=True).sort_index().rename(Q22_dict)\n",
    "\n",
    "plt.pie(Q22,labels=Q22_idx,autopct='%1.1f%%')\n",
    "plt.title('Zip code')\n",
    "plt.tight_layout()"
   ]
  },
  {
   "cell_type": "code",
   "execution_count": 11,
   "id": "a139981a-d012-4911-b8d2-02d5013fbedc",
   "metadata": {
    "collapsed": true,
    "jupyter": {
     "outputs_hidden": true
    },
    "tags": []
   },
   "outputs": [
    {
     "name": "stdout",
     "output_type": "stream",
     "text": [
      "['Total', 125, 'Missing', 3]\n"
     ]
    },
    {
     "data": {
      "text/plain": [
       "Weak                 0.048\n",
       "Relatively Weak      0.008\n",
       "Neutral              0.280\n",
       "Relatively Strong    0.336\n",
       "Strong               0.328\n",
       "Name: Q24, dtype: float64"
      ]
     },
     "execution_count": 11,
     "metadata": {},
     "output_type": "execute_result"
    },
    {
     "data": {
      "text/plain": [
       "<BarContainer object of 5 artists>"
      ]
     },
     "execution_count": 11,
     "metadata": {},
     "output_type": "execute_result"
    },
    {
     "data": {
      "text/plain": [
       "Text(0.5, 0, 'Count')"
      ]
     },
     "execution_count": 11,
     "metadata": {},
     "output_type": "execute_result"
    },
    {
     "data": {
      "text/plain": [
       "Text(0.5, 1.0, 'Attachment to WAHI')"
      ]
     },
     "execution_count": 11,
     "metadata": {},
     "output_type": "execute_result"
    },
    {
     "data": {
      "image/png": "[encoded data removed]",
      "text/plain": [
       "<Figure size 432x288 with 1 Axes>"
      ]
     },
     "metadata": {
      "needs_background": "light"
     },
     "output_type": "display_data"
    }
   ],
   "source": [
    "Q24_idx = ['Weak','Relatively Weak','Neutral','Relatively Strong','Strong']\n",
    "Q24_dict = {1:'Weak',2:'Relatively Weak',3:'Neutral',4:'Relatively Strong',5:'Strong'}\n",
    "Q24 = list(base['Q24'].value_counts().sort_index())\n",
    "\n",
    "Q24_n = base['Q24'].value_counts().sum()\n",
    "Q24_missing = 128-Q24_n\n",
    "print(['Total',Q24_n,'Missing',Q24_missing])\n",
    "base['Q24'].value_counts(normalize=True).sort_index().rename(Q24_dict)\n",
    "\n",
    "plt.barh(Q24_idx,Q24)\n",
    "plt.xlabel('Count')\n",
    "\n",
    "plt.title('Attachment to WAHI')\n",
    "plt.tight_layout()"
   ]
  },
  {
   "cell_type": "code",
   "execution_count": 12,
   "id": "2bd08682-b75c-4623-855f-8b6e9c092e80",
   "metadata": {
    "collapsed": true,
    "jupyter": {
     "outputs_hidden": true
    },
    "tags": []
   },
   "outputs": [
    {
     "name": "stdout",
     "output_type": "stream",
     "text": [
      "['Total', 124, 'Missing', 4]\n"
     ]
    },
    {
     "data": {
      "text/plain": [
       "Mostly Negative      0.016129\n",
       "Somewhat Negative    0.056452\n",
       "Neutral              0.201613\n",
       "Somewhat Positive    0.395161\n",
       "Mostly Positive      0.330645\n",
       "Name: Q25, dtype: float64"
      ]
     },
     "execution_count": 12,
     "metadata": {},
     "output_type": "execute_result"
    },
    {
     "data": {
      "text/plain": [
       "<BarContainer object of 5 artists>"
      ]
     },
     "execution_count": 12,
     "metadata": {},
     "output_type": "execute_result"
    },
    {
     "data": {
      "text/plain": [
       "Text(0.5, 0, 'Count')"
      ]
     },
     "execution_count": 12,
     "metadata": {},
     "output_type": "execute_result"
    },
    {
     "data": {
      "text/plain": [
       "Text(0.5, 1.0, 'Overall feeling toward WAHI')"
      ]
     },
     "execution_count": 12,
     "metadata": {},
     "output_type": "execute_result"
    },
    {
     "data": {
      "image/png": "[encoded data removed]",
      "text/plain": [
       "<Figure size 432x288 with 1 Axes>"
      ]
     },
     "metadata": {
      "needs_background": "light"
     },
     "output_type": "display_data"
    }
   ],
   "source": [
    "Q25_idx = ['Mostly Negative','Somewhat Negative','Neutral',\n",
    "           'Somewhat Positive','Mostly Positive']\n",
    "Q25_dict = {1:'Mostly Negative',2:'Somewhat Negative',3:'Neutral',\n",
    "           4:'Somewhat Positive',5:'Mostly Positive'}\n",
    "Q25 = list(base['Q25'].value_counts().sort_index())\n",
    "\n",
    "Q25_n = base['Q25'].value_counts().sum()\n",
    "Q25_missing = 128-Q25_n\n",
    "print(['Total',Q25_n,'Missing',Q25_missing])\n",
    "base['Q25'].value_counts(normalize=True).sort_index().rename(Q25_dict)\n",
    "\n",
    "plt.barh(Q25_idx,Q25)\n",
    "plt.xlabel('Count')\n",
    "\n",
    "plt.title('Overall feeling toward WAHI')\n",
    "plt.tight_layout()"
   ]
  },
  {
   "cell_type": "code",
   "execution_count": 13,
   "id": "0bdfa82a-88f2-4feb-814e-6b6971bb55f7",
   "metadata": {
    "collapsed": true,
    "jupyter": {
     "outputs_hidden": true
    },
    "tags": []
   },
   "outputs": [
    {
     "name": "stdout",
     "output_type": "stream",
     "text": [
      "['Total', 101, 'Missing', 27]\n"
     ]
    },
    {
     "data": {
      "text/plain": [
       "< $20K/year    0.742574\n",
       "$20K-$39K      0.148515\n",
       "$40K-$59K      0.069307\n",
       "$60K+          0.039604\n",
       "Name: Q27, dtype: float64"
      ]
     },
     "execution_count": 13,
     "metadata": {},
     "output_type": "execute_result"
    },
    {
     "data": {
      "text/plain": [
       "<BarContainer object of 4 artists>"
      ]
     },
     "execution_count": 13,
     "metadata": {},
     "output_type": "execute_result"
    },
    {
     "data": {
      "text/plain": [
       "Text(0, 0.5, 'Count')"
      ]
     },
     "execution_count": 13,
     "metadata": {},
     "output_type": "execute_result"
    },
    {
     "data": {
      "text/plain": [
       "Text(0.5, 1.0, 'Income Level')"
      ]
     },
     "execution_count": 13,
     "metadata": {},
     "output_type": "execute_result"
    },
    {
     "data": {
      "image/png": "[encoded data removed]",
      "text/plain": [
       "<Figure size 432x288 with 1 Axes>"
      ]
     },
     "metadata": {
      "needs_background": "light"
     },
     "output_type": "display_data"
    }
   ],
   "source": [
    "Q27_idx = ['< $20K/year','$20K-$39K','$40K-$59K','$60K+']\n",
    "Q27_dict = {1:'< $20K/year',2:'$20K-$39K',3:'$40K-$59K',4:'$60K+'}\n",
    "Q27 = list(base['Q27'].value_counts().sort_index())\n",
    "\n",
    "Q27_n = base['Q27'].value_counts().sum()\n",
    "Q27_missing = 128-Q27_n\n",
    "print(['Total',Q27_n,'Missing',Q27_missing])\n",
    "base['Q27'].value_counts(normalize=True).sort_index().rename(Q27_dict)\n",
    "\n",
    "plt.bar(Q27_idx,Q27)\n",
    "plt.ylabel('Count')\n",
    "\n",
    "plt.title('Income Level')\n",
    "plt.tight_layout()"
   ]
  },
  {
   "cell_type": "code",
   "execution_count": 14,
   "id": "5aa42afa-e03e-48ab-9108-61f8f0f9d85b",
   "metadata": {
    "collapsed": true,
    "jupyter": {
     "outputs_hidden": true
    },
    "tags": []
   },
   "outputs": [
    {
     "name": "stdout",
     "output_type": "stream",
     "text": [
      "['Total', 107, 'Missing', 21]\n"
     ]
    },
    {
     "data": {
      "text/plain": [
       "Married or with domestic partner    0.327103\n",
       "Divorced                            0.327103\n",
       "Widowed                             0.130841\n",
       "Never Married                       0.214953\n",
       "Name: Q28, dtype: float64"
      ]
     },
     "execution_count": 14,
     "metadata": {},
     "output_type": "execute_result"
    },
    {
     "data": {
      "text/plain": [
       "([<matplotlib.patches.Wedge at 0x7fd09fb4cf10>,\n",
       "  <matplotlib.patches.Wedge at 0x7fd09fc0d640>,\n",
       "  <matplotlib.patches.Wedge at 0x7fd09fc0dcd0>,\n",
       "  <matplotlib.patches.Wedge at 0x7fd09fc163a0>],\n",
       " [Text(0.5685399676689666, 0.9416805749100756, 'Married or with domestic partner'),\n",
       "  Text(-1.0981040399588466, 0.06455631205435905, 'Divorced'),\n",
       "  Text(-0.20865676421000795, -1.0800288675537377, 'Widowed'),\n",
       "  Text(0.85857446430666, -0.6876408141177575, 'Never Married')],\n",
       " [Text(0.31011270963761817, 0.5136439499509503, '32.7%'),\n",
       "  Text(-0.5989658399775527, 0.035212533847832204, '32.7%'),\n",
       "  Text(-0.11381278047818615, -0.5891066550293115, '13.1%'),\n",
       "  Text(0.468313344167269, -0.375076807700595, '21.5%')])"
      ]
     },
     "execution_count": 14,
     "metadata": {},
     "output_type": "execute_result"
    },
    {
     "data": {
      "text/plain": [
       "Text(0.5, 1.0, 'Current Marital Status')"
      ]
     },
     "execution_count": 14,
     "metadata": {},
     "output_type": "execute_result"
    },
    {
     "data": {
      "image/png": "[encoded data removed]",
      "text/plain": [
       "<Figure size 432x288 with 1 Axes>"
      ]
     },
     "metadata": {},
     "output_type": "display_data"
    }
   ],
   "source": [
    "Q28_idx = ['Married or with domestic partner', 'Divorced','Widowed','Never Married']\n",
    "Q28_dict = {1:'Married or with domestic partner',2:'Divorced',\n",
    "           3:'Widowed',4:'Never Married'}\n",
    "Q28 = list(base['Q28'].value_counts().sort_index())\n",
    "\n",
    "Q28_n = base['Q28'].value_counts().sum()\n",
    "Q28_missing = 128-Q28_n\n",
    "print(['Total',Q28_n,'Missing',Q28_missing])\n",
    "base['Q28'].value_counts(normalize=True).sort_index().rename(Q28_dict)\n",
    "\n",
    "plt.pie(Q28,labels=Q28_idx,autopct='%1.1f%%')\n",
    "plt.title('Current Marital Status')\n",
    "plt.tight_layout()"
   ]
  },
  {
   "cell_type": "code",
   "execution_count": 15,
   "id": "a5a45bf2-48d4-4b50-855e-91ed6d65a614",
   "metadata": {
    "collapsed": true,
    "jupyter": {
     "outputs_hidden": true
    },
    "tags": []
   },
   "outputs": [
    {
     "name": "stdout",
     "output_type": "stream",
     "text": [
      "['Total', 124, 'Missing', 4]\n"
     ]
    },
    {
     "data": {
      "text/plain": [
       "Yes    0.362903\n",
       "No     0.637097\n",
       "Name: Q29, dtype: float64"
      ]
     },
     "execution_count": 15,
     "metadata": {},
     "output_type": "execute_result"
    },
    {
     "data": {
      "text/plain": [
       "([<matplotlib.patches.Wedge at 0x7fd09fd591c0>,\n",
       "  <matplotlib.patches.Wedge at 0x7fd09fd598b0>],\n",
       " [Text(0.45925985528762253, 0.9995400869005666, 'Yes'),\n",
       "  Text(-0.4592598552876231, -0.9995400869005664, 'No')],\n",
       " [Text(0.25050537561143044, 0.5452036837639453, '36.3%'),\n",
       "  Text(-0.2505053756114307, -0.5452036837639452, '63.7%')])"
      ]
     },
     "execution_count": 15,
     "metadata": {},
     "output_type": "execute_result"
    },
    {
     "data": {
      "text/plain": [
       "Text(0.5, 1.0, 'Do you live alone?')"
      ]
     },
     "execution_count": 15,
     "metadata": {},
     "output_type": "execute_result"
    },
    {
     "data": {
      "image/png": "[encoded data removed]",
      "text/plain": [
       "<Figure size 432x288 with 1 Axes>"
      ]
     },
     "metadata": {},
     "output_type": "display_data"
    }
   ],
   "source": [
    "Q29_idx = ['Yes','No']\n",
    "Q29_dict = {1:'Yes',2:'No'}\n",
    "Q29 = list(base['Q29'].value_counts().sort_index())\n",
    "\n",
    "Q29_n = base['Q29'].value_counts().sum()\n",
    "Q29_missing = 128-Q29_n\n",
    "print(['Total',Q29_n,'Missing',Q29_missing])\n",
    "base['Q29'].value_counts(normalize=True).sort_index().rename(Q29_dict)\n",
    "\n",
    "plt.pie(Q29,labels=Q29_idx,autopct='%1.1f%%')\n",
    "plt.title('Do you live alone?')\n",
    "plt.tight_layout()"
   ]
  },
  {
   "cell_type": "code",
   "execution_count": 16,
   "id": "c0b9d7d5-d171-4a95-b8c7-b5e905528447",
   "metadata": {
    "collapsed": true,
    "jupyter": {
     "outputs_hidden": true
    },
    "tags": []
   },
   "outputs": [
    {
     "name": "stdout",
     "output_type": "stream",
     "text": [
      "['Total', 125, 'Missing', 3]\n"
     ]
    },
    {
     "data": {
      "text/plain": [
       "U.S.A.    0.24\n",
       "Other     0.76\n",
       "Name: Q30, dtype: float64"
      ]
     },
     "execution_count": 16,
     "metadata": {},
     "output_type": "execute_result"
    },
    {
     "data": {
      "text/plain": [
       "([<matplotlib.patches.Wedge at 0x7fd09fe1a7c0>,\n",
       "  <matplotlib.patches.Wedge at 0x7fd09fe1aeb0>],\n",
       " [Text(0.8018655028537539, 0.7530018030078657, 'U.S.A.'),\n",
       "  Text(-0.8018655381043116, -0.7530017654698314, 'Other')],\n",
       " [Text(0.43738118337477483, 0.4107282561861085, '24.0%'),\n",
       "  Text(-0.43738120260235175, -0.4107282357108171, '76.0%')])"
      ]
     },
     "execution_count": 16,
     "metadata": {},
     "output_type": "execute_result"
    },
    {
     "data": {
      "text/plain": [
       "Text(0.5, 1.0, 'Country of birth')"
      ]
     },
     "execution_count": 16,
     "metadata": {},
     "output_type": "execute_result"
    },
    {
     "data": {
      "image/png": "[encoded data removed]",
      "text/plain": [
       "<Figure size 432x288 with 1 Axes>"
      ]
     },
     "metadata": {},
     "output_type": "display_data"
    }
   ],
   "source": [
    "Q30_idx = ['U.S.A.','Other']\n",
    "Q30_dict = {1:'U.S.A.',2:'Other'}\n",
    "Q30 = list(base['Q30'].value_counts().sort_index())\n",
    "\n",
    "Q30_n = base['Q30'].value_counts().sum()\n",
    "Q30_missing = 128-Q30_n\n",
    "print(['Total',Q30_n,'Missing',Q30_missing])\n",
    "base['Q30'].value_counts(normalize=True).sort_index().rename(Q30_dict)\n",
    "\n",
    "plt.pie(Q30,labels=Q30_idx,autopct='%1.1f%%')\n",
    "plt.title('Country of birth')\n",
    "plt.tight_layout()"
   ]
  },
  {
   "cell_type": "code",
   "execution_count": 17,
   "id": "d14c06ce-6fd7-4f52-bbbf-be53b1a50a7d",
   "metadata": {},
   "outputs": [
    {
     "data": {
      "text/plain": [
       "90"
      ]
     },
     "execution_count": 17,
     "metadata": {},
     "output_type": "execute_result"
    },
    {
     "data": {
      "text/plain": [
       "2.0    95\n",
       "1.0    30\n",
       "Name: Q30, dtype: int64"
      ]
     },
     "execution_count": 17,
     "metadata": {},
     "output_type": "execute_result"
    }
   ],
   "source": [
    "base['Q30_2_TEXT'].value_counts().sum()\n",
    "base['Q30'].value_counts()"
   ]
  },
  {
   "cell_type": "code",
   "execution_count": 19,
   "id": "87721fd9-57f2-4c47-a73b-189352f99cad",
   "metadata": {},
   "outputs": [],
   "source": [
    "base.to_csv('Baseline_data.csv',index=False)"
   ]
  },
  {
   "cell_type": "code",
   "execution_count": null,
   "id": "eaf0e108-f6dc-47ac-b18d-30d93759294b",
   "metadata": {},
   "outputs": [],
   "source": []
  }
 ],
 "metadata": {
  "kernelspec": {
   "display_name": "Python 3",
   "language": "python",
   "name": "python3"
  },
  "language_info": {
   "codemirror_mode": {
    "name": "ipython",
    "version": 3
   },
   "file_extension": ".py",
   "mimetype": "text/x-python",
   "name": "python",
   "nbconvert_exporter": "python",
   "pygments_lexer": "ipython3",
   "version": "3.8.8"
  }
 },
 "nbformat": 4,
 "nbformat_minor": 5
}

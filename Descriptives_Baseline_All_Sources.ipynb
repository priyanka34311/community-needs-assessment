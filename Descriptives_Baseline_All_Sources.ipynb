{
 "cells": [
  {
   "cell_type": "code",
   "execution_count": 2,
   "id": "6c0be38a-6fc0-43bc-8260-baeb66d8659b",
   "metadata": {},
   "outputs": [],
   "source": [
    "# Set up environment\n",
    "\n",
    "from IPython.core.interactiveshell import InteractiveShell\n",
    "InteractiveShell.ast_node_interactivity = \"all\"\n",
    "\n",
    "import pandas as pd\n",
    "import numpy as np\n",
    "import seaborn as sns\n",
    "from matplotlib import pyplot as plt\n",
    "import math\n",
    "\n",
    "%matplotlib inline"
   ]
  },
  {
   "cell_type": "code",
   "execution_count": 3,
   "id": "574a9a62-a105-46c1-9f3a-e324d485b39d",
   "metadata": {
    "collapsed": true,
    "jupyter": {
     "outputs_hidden": true
    },
    "tags": []
   },
   "outputs": [
    {
     "data": {
      "text/plain": [
       "(62, 109)"
      ]
     },
     "execution_count": 3,
     "metadata": {},
     "output_type": "execute_result"
    },
    {
     "data": {
      "text/plain": [
       "array(['ParticipantID', 'SurveyDate', 'UserLanguage',\n",
       "       'Duration (in seconds)', 'Q3_1', 'Q3_2', 'Q3_3', 'Q3_4', 'Q3_5',\n",
       "       'Q4', 'Q5', 'Q6_1', 'Q6_2', 'Q6_3', 'Q6_4', 'Q6_5', 'Q7_1', 'Q7_2',\n",
       "       'Q7_3', 'Q7_4', 'Q7_5', 'Q8', 'Q9', 'Q10', 'Q11', 'Q12', 'Q13',\n",
       "       'Q13_2_TEXT', 'Q14', 'Q15_1', 'Q15_2', 'Q15_3', 'Q15_4', 'Q15_5',\n",
       "       'Q15_6', 'Q15_7', 'Q15_8', 'Q15_9', 'Q15_10', 'Q15_11', 'Q15_12',\n",
       "       'Q15_13', 'Q15_14', 'Q15_15', 'Q15_16', 'Q15_17', 'Q15_18',\n",
       "       'Q15_19', 'Q15_20', 'Q15_21', 'Q15_22', 'Q15_23', 'Q15_24',\n",
       "       'Q15_25', 'Q15_26', 'Q15_27', 'Q15_28', 'Q15_29', 'Q16_1', 'Q16_2',\n",
       "       'Q16_3', 'Q16_4', 'Q16_5', 'Q16_6', 'Q16_7', 'Q16_8', 'Q16_9',\n",
       "       'Q16_10', 'Q16_11', 'Q16_12', 'Q16_13', 'Q16_14', 'Q16_15',\n",
       "       'Q16_16', 'Q16_17', 'Q16_18', 'Q16_19', 'Q16_20', 'Q16_21',\n",
       "       'Q17_1', 'Q17_2', 'Q17_3', 'Q17_4', 'Q17_5', 'Q17_6', 'Q17_7',\n",
       "       'Q17_8', 'Q17_9', 'Q17_10', 'Q17_11', 'Q17_12', 'Q17_13', 'Q18',\n",
       "       'Q32', 'Q19', 'Q20', 'Q21', 'Q21_3_TEXT', 'Q22', 'Q23', 'Q24',\n",
       "       'Q25', 'Q26', 'Q27', 'Q28', 'Q29', 'Q30', 'Q30_2_TEXT', 'Q31'],\n",
       "      dtype=object)"
      ]
     },
     "execution_count": 3,
     "metadata": {},
     "output_type": "execute_result"
    }
   ],
   "source": [
    "# Load data\n",
    "\n",
    "file = 'V2_Cleaned_Baseline_Diabetes.csv'\n",
    "base = pd.read_csv(file,na_values=[-999,'999',-888,'-888'])\n",
    "base.shape\n",
    "base.columns.values"
   ]
  },
  {
   "cell_type": "code",
   "execution_count": 3,
   "id": "332a3915-9c7d-48ed-ac16-2395133e8c57",
   "metadata": {},
   "outputs": [],
   "source": [
    "#Health information resources"
   ]
  },
  {
   "cell_type": "code",
   "execution_count": 4,
   "id": "4c34cb44-a00c-4f2d-9274-6027553004ab",
   "metadata": {
    "collapsed": true,
    "jupyter": {
     "outputs_hidden": true
    },
    "tags": []
   },
   "outputs": [
    {
     "name": "stdout",
     "output_type": "stream",
     "text": [
      "Health care providers\n",
      "60\n"
     ]
    },
    {
     "data": {
      "text/plain": [
       "None             0.25\n",
       "A little         0.35\n",
       "A good amount    0.25\n",
       "A lot            0.15\n",
       "Name: Q3_1, dtype: float64"
      ]
     },
     "execution_count": 4,
     "metadata": {},
     "output_type": "execute_result"
    },
    {
     "name": "stdout",
     "output_type": "stream",
     "text": [
      "\n",
      "Family and friends\n",
      "58\n"
     ]
    },
    {
     "data": {
      "text/plain": [
       "None             0.310345\n",
       "A little         0.344828\n",
       "A good amount    0.172414\n",
       "A lot            0.172414\n",
       "Name: Q3_2, dtype: float64"
      ]
     },
     "execution_count": 4,
     "metadata": {},
     "output_type": "execute_result"
    },
    {
     "name": "stdout",
     "output_type": "stream",
     "text": [
      "\n",
      "Internet/websites\n",
      "58\n"
     ]
    },
    {
     "data": {
      "text/plain": [
       "None             0.465517\n",
       "A little         0.327586\n",
       "A good amount    0.137931\n",
       "A lot            0.068966\n",
       "Name: Q3_3, dtype: float64"
      ]
     },
     "execution_count": 4,
     "metadata": {},
     "output_type": "execute_result"
    },
    {
     "name": "stdout",
     "output_type": "stream",
     "text": [
      "\n",
      "Written resources\n",
      "58\n"
     ]
    },
    {
     "data": {
      "text/plain": [
       "None             0.310345\n",
       "A little         0.344828\n",
       "A good amount    0.224138\n",
       "A lot            0.120690\n",
       "Name: Q3_4, dtype: float64"
      ]
     },
     "execution_count": 4,
     "metadata": {},
     "output_type": "execute_result"
    },
    {
     "name": "stdout",
     "output_type": "stream",
     "text": [
      "\n",
      "Community organizations and events\n",
      "59\n"
     ]
    },
    {
     "data": {
      "text/plain": [
       "None             0.355932\n",
       "A little         0.406780\n",
       "A good amount    0.186441\n",
       "A lot            0.050847\n",
       "Name: Q3_5, dtype: float64"
      ]
     },
     "execution_count": 4,
     "metadata": {},
     "output_type": "execute_result"
    },
    {
     "name": "stdout",
     "output_type": "stream",
     "text": [
      "\n"
     ]
    }
   ],
   "source": [
    "Q3_idx = ['None','A little','A good amount','A lot']\n",
    "Q3_cols = ['Q3_1', 'Q3_2', 'Q3_3', 'Q3_4', 'Q3_5']\n",
    "Q3_dict = {1:\"None\", 2:\"A little\", 3:\"A good amount\", 4:\"A lot\"}\n",
    "Q3_cat = ['Health care providers','Family and friends','Internet/websites',\n",
    "          'Written resources','Community organizations and events']\n",
    "Q3_1 = list(base['Q3_1'].value_counts().sort_index())\n",
    "Q3_2 = list(base['Q3_2'].value_counts().sort_index())\n",
    "Q3_3 = list(base['Q3_3'].value_counts().sort_index())\n",
    "Q3_4 = list(base['Q3_4'].value_counts().sort_index())\n",
    "Q3_5 = list(base['Q3_5'].value_counts().sort_index())\n",
    "\n",
    "for i in range(5):\n",
    "    \n",
    "    print(Q3_cat[i])\n",
    "    print(base[Q3_cols[i]].value_counts().sum())\n",
    "    base[Q3_cols[i]].value_counts(normalize=True).sort_index().rename(Q3_dict)\n",
    "    print()"
   ]
  },
  {
   "cell_type": "code",
   "execution_count": 5,
   "id": "0a441a99-d6a2-416b-bb47-f97bb8862a6c",
   "metadata": {
    "collapsed": true,
    "jupyter": {
     "outputs_hidden": true
    },
    "tags": []
   },
   "outputs": [
    {
     "data": {
      "text/plain": [
       "<BarContainer object of 4 artists>"
      ]
     },
     "execution_count": 5,
     "metadata": {},
     "output_type": "execute_result"
    },
    {
     "data": {
      "text/plain": [
       "Text(0, 0.5, '# of participants')"
      ]
     },
     "execution_count": 5,
     "metadata": {},
     "output_type": "execute_result"
    },
    {
     "data": {
      "text/plain": [
       "Text(0.5, 1.0, 'Information from Health care providers')"
      ]
     },
     "execution_count": 5,
     "metadata": {},
     "output_type": "execute_result"
    },
    {
     "data": {
      "image/png": "[encoded data removed]",
      "text/plain": [
       "<Figure size 432x288 with 1 Axes>"
      ]
     },
     "metadata": {
      "needs_background": "light"
     },
     "output_type": "display_data"
    }
   ],
   "source": [
    "# Plot for Q3\n",
    "plt.bar(Q3_idx,Q3_1)\n",
    "plt.ylabel('# of participants')\n",
    "plt.title('Information from Health care providers')\n",
    "plt.tight_layout()\n",
    "\n"
   ]
  },
  {
   "cell_type": "code",
   "execution_count": 6,
   "id": "aacc3e56-a5ba-45f5-93a2-fa74bef674e8",
   "metadata": {
    "collapsed": true,
    "jupyter": {
     "outputs_hidden": true
    },
    "tags": []
   },
   "outputs": [
    {
     "data": {
      "text/plain": [
       "<BarContainer object of 4 artists>"
      ]
     },
     "execution_count": 6,
     "metadata": {},
     "output_type": "execute_result"
    },
    {
     "data": {
      "text/plain": [
       "Text(0, 0.5, '# of participants')"
      ]
     },
     "execution_count": 6,
     "metadata": {},
     "output_type": "execute_result"
    },
    {
     "data": {
      "text/plain": [
       "Text(0.5, 1.0, 'Information from Family and Friends')"
      ]
     },
     "execution_count": 6,
     "metadata": {},
     "output_type": "execute_result"
    },
    {
     "data": {
      "image/png": "[encoded data removed]",
      "text/plain": [
       "<Figure size 432x288 with 1 Axes>"
      ]
     },
     "metadata": {
      "needs_background": "light"
     },
     "output_type": "display_data"
    }
   ],
   "source": [
    "plt.bar(Q3_idx,Q3_2)\n",
    "plt.ylabel('# of participants')\n",
    "plt.title('Information from Family and Friends')\n",
    "plt.tight_layout()"
   ]
  },
  {
   "cell_type": "code",
   "execution_count": 7,
   "id": "d1913bfe-5db2-4690-ac34-ad2948082d78",
   "metadata": {
    "collapsed": true,
    "jupyter": {
     "outputs_hidden": true
    },
    "tags": []
   },
   "outputs": [
    {
     "data": {
      "text/plain": [
       "<BarContainer object of 4 artists>"
      ]
     },
     "execution_count": 7,
     "metadata": {},
     "output_type": "execute_result"
    },
    {
     "data": {
      "text/plain": [
       "Text(0, 0.5, '# of participants')"
      ]
     },
     "execution_count": 7,
     "metadata": {},
     "output_type": "execute_result"
    },
    {
     "data": {
      "text/plain": [
       "Text(0.5, 1.0, 'Information from Internet/websites')"
      ]
     },
     "execution_count": 7,
     "metadata": {},
     "output_type": "execute_result"
    },
    {
     "data": {
      "image/png": "[encoded data removed]",
      "text/plain": [
       "<Figure size 432x288 with 1 Axes>"
      ]
     },
     "metadata": {
      "needs_background": "light"
     },
     "output_type": "display_data"
    }
   ],
   "source": [
    "plt.bar(Q3_idx,Q3_3)\n",
    "plt.ylabel('# of participants')\n",
    "plt.title('Information from Internet/websites')\n",
    "plt.tight_layout()"
   ]
  },
  {
   "cell_type": "code",
   "execution_count": 8,
   "id": "f4f0a927-4aff-4490-addc-2744219acb18",
   "metadata": {
    "collapsed": true,
    "jupyter": {
     "outputs_hidden": true
    },
    "tags": []
   },
   "outputs": [
    {
     "data": {
      "text/plain": [
       "<BarContainer object of 4 artists>"
      ]
     },
     "execution_count": 8,
     "metadata": {},
     "output_type": "execute_result"
    },
    {
     "data": {
      "text/plain": [
       "Text(0, 0.5, '# of participants')"
      ]
     },
     "execution_count": 8,
     "metadata": {},
     "output_type": "execute_result"
    },
    {
     "data": {
      "text/plain": [
       "Text(0.5, 1.0, 'Information from Written Resources')"
      ]
     },
     "execution_count": 8,
     "metadata": {},
     "output_type": "execute_result"
    },
    {
     "data": {
      "image/png": "[encoded data removed]",
      "text/plain": [
       "<Figure size 432x288 with 1 Axes>"
      ]
     },
     "metadata": {
      "needs_background": "light"
     },
     "output_type": "display_data"
    }
   ],
   "source": [
    "plt.bar(Q3_idx,Q3_4)\n",
    "plt.ylabel('# of participants')\n",
    "plt.title('Information from Written Resources')\n",
    "plt.tight_layout()"
   ]
  },
  {
   "cell_type": "code",
   "execution_count": 9,
   "id": "f9fa0c62-055d-4f25-8600-269c0ce06f52",
   "metadata": {
    "collapsed": true,
    "jupyter": {
     "outputs_hidden": true
    },
    "tags": []
   },
   "outputs": [
    {
     "data": {
      "text/plain": [
       "<BarContainer object of 4 artists>"
      ]
     },
     "execution_count": 9,
     "metadata": {},
     "output_type": "execute_result"
    },
    {
     "data": {
      "text/plain": [
       "Text(0, 0.5, '# of participants')"
      ]
     },
     "execution_count": 9,
     "metadata": {},
     "output_type": "execute_result"
    },
    {
     "data": {
      "text/plain": [
       "Text(0.5, 1.0, 'Information from Community Organizations and Events')"
      ]
     },
     "execution_count": 9,
     "metadata": {},
     "output_type": "execute_result"
    },
    {
     "data": {
      "image/png": "[encoded data removed]",
      "text/plain": [
       "<Figure size 432x288 with 1 Axes>"
      ]
     },
     "metadata": {
      "needs_background": "light"
     },
     "output_type": "display_data"
    }
   ],
   "source": [
    "plt.bar(Q3_idx,Q3_5)\n",
    "plt.ylabel('# of participants')\n",
    "plt.title('Information from Community Organizations and Events')\n",
    "plt.tight_layout()"
   ]
  },
  {
   "cell_type": "code",
   "execution_count": 10,
   "id": "6a0cc135-7675-45df-8916-ae9cfa7f658d",
   "metadata": {
    "collapsed": true,
    "jupyter": {
     "outputs_hidden": true
    },
    "tags": []
   },
   "outputs": [
    {
     "data": {
      "text/plain": [
       "([<matplotlib.patches.Wedge at 0x7fb3b4e67730>,\n",
       "  <matplotlib.patches.Wedge at 0x7fb3b4e67dc0>],\n",
       " [Text(0.8346339501101788, 0.7165097133490095, 'Yes'),\n",
       "  Text(-0.8346340171946562, -0.716509635204936, 'No')],\n",
       " [Text(0.4552548818782793, 0.39082348000855055, '22.6%'),\n",
       "  Text(-0.4552549184698124, -0.39082343738451053, '77.4%')])"
      ]
     },
     "execution_count": 10,
     "metadata": {},
     "output_type": "execute_result"
    },
    {
     "data": {
      "text/plain": [
       "Text(0.5, 1.0, 'Do you have other major souces of diabetes information?')"
      ]
     },
     "execution_count": 10,
     "metadata": {},
     "output_type": "execute_result"
    },
    {
     "data": {
      "image/png": "[encoded data removed]",
      "text/plain": [
       "<Figure size 432x288 with 1 Axes>"
      ]
     },
     "metadata": {},
     "output_type": "display_data"
    }
   ],
   "source": [
    "# Q4:\n",
    "Q4_idx = ['Yes','No']\n",
    "Q4 = list(base['Q4'].value_counts(normalize=True).sort_index())\n",
    "\n",
    "plt.pie(Q4,labels=Q4_idx,autopct='%1.1f%%')\n",
    "plt.title('Do you have other major souces of diabetes information?')\n",
    "plt.tight_layout()"
   ]
  },
  {
   "cell_type": "code",
   "execution_count": 11,
   "id": "b53f2f12-ac22-4f79-99a2-88f00e207fb0",
   "metadata": {
    "collapsed": true,
    "jupyter": {
     "outputs_hidden": true
    },
    "tags": []
   },
   "outputs": [
    {
     "name": "stdout",
     "output_type": "stream",
     "text": [
      "Health care providers\n",
      "53\n"
     ]
    },
    {
     "data": {
      "text/plain": [
       "Very unsatisfied    0.056604\n",
       "Unsatisfied         0.094340\n",
       "Neutral             0.283019\n",
       "Satisfied           0.396226\n",
       "Very satisfied      0.169811\n",
       "Name: Q6_1, dtype: float64"
      ]
     },
     "execution_count": 11,
     "metadata": {},
     "output_type": "execute_result"
    },
    {
     "name": "stdout",
     "output_type": "stream",
     "text": [
      "\n",
      "Family and friends\n",
      "49\n"
     ]
    },
    {
     "data": {
      "text/plain": [
       "Very unsatisfied    0.061224\n",
       "Unsatisfied         0.081633\n",
       "Neutral             0.387755\n",
       "Satisfied           0.387755\n",
       "Very satisfied      0.081633\n",
       "Name: Q6_2, dtype: float64"
      ]
     },
     "execution_count": 11,
     "metadata": {},
     "output_type": "execute_result"
    },
    {
     "name": "stdout",
     "output_type": "stream",
     "text": [
      "\n",
      "Internet/websites\n",
      "43\n"
     ]
    },
    {
     "data": {
      "text/plain": [
       "Very unsatisfied    0.139535\n",
       "Unsatisfied         0.093023\n",
       "Neutral             0.441860\n",
       "Satisfied           0.302326\n",
       "Very satisfied      0.023256\n",
       "Name: Q6_3, dtype: float64"
      ]
     },
     "execution_count": 11,
     "metadata": {},
     "output_type": "execute_result"
    },
    {
     "name": "stdout",
     "output_type": "stream",
     "text": [
      "\n",
      "Written resources\n",
      "47\n"
     ]
    },
    {
     "data": {
      "text/plain": [
       "Very unsatisfied    0.063830\n",
       "Unsatisfied         0.042553\n",
       "Neutral             0.319149\n",
       "Satisfied           0.468085\n",
       "Very satisfied      0.106383\n",
       "Name: Q6_4, dtype: float64"
      ]
     },
     "execution_count": 11,
     "metadata": {},
     "output_type": "execute_result"
    },
    {
     "name": "stdout",
     "output_type": "stream",
     "text": [
      "\n",
      "Community organizations and events\n",
      "47\n"
     ]
    },
    {
     "data": {
      "text/plain": [
       "Very unsatisfied    0.106383\n",
       "Unsatisfied         0.042553\n",
       "Neutral             0.297872\n",
       "Satisfied           0.361702\n",
       "Very satisfied      0.191489\n",
       "Name: Q6_5, dtype: float64"
      ]
     },
     "execution_count": 11,
     "metadata": {},
     "output_type": "execute_result"
    },
    {
     "name": "stdout",
     "output_type": "stream",
     "text": [
      "\n"
     ]
    }
   ],
   "source": [
    "# Q6 - Satisfaction with diabetes information\n",
    "\n",
    "Q6_idx = ['Very unsatisfied','Unsatisfied','Neutral','Satisfied','Very satisfied',\n",
    "         'Not applicable']\n",
    "Q6_cols = ['Q6_1', 'Q6_2', 'Q6_3', 'Q6_4', 'Q6_5']\n",
    "Q6_dict = {1:\"Very unsatisfied\", 2:\"Unsatisfied\", \n",
    "           3:\"Neutral\", 4:\"Satisfied\", 5:\"Very satisfied\", 6: \"Not applicable\"}\n",
    "Q6_cat = ['Health care providers','Family and friends','Internet/websites',\n",
    "          'Written resources','Community organizations and events']\n",
    "Q6_1 = list(base['Q6_1'].value_counts().sort_index())\n",
    "Q6_2 = list(base['Q6_2'].value_counts().sort_index())\n",
    "Q6_3 = list(base['Q6_3'].value_counts().sort_index())\n",
    "Q6_4 = list(base['Q6_4'].value_counts().sort_index())\n",
    "Q6_5 = list(base['Q6_5'].value_counts().sort_index())\n",
    "\n",
    "for i in range(5):\n",
    "    \n",
    "    print(Q6_cat[i])\n",
    "    print(base[Q6_cols[i]].value_counts().sum())\n",
    "    base[Q6_cols[i]].value_counts(normalize=True).sort_index().rename(Q6_dict)\n",
    "    print()\n"
   ]
  },
  {
   "cell_type": "code",
   "execution_count": 12,
   "id": "57dfc841-e5f0-46c4-9d80-81311dde059d",
   "metadata": {
    "collapsed": true,
    "jupyter": {
     "outputs_hidden": true
    },
    "tags": []
   },
   "outputs": [
    {
     "data": {
      "text/plain": [
       "<BarContainer object of 6 artists>"
      ]
     },
     "execution_count": 12,
     "metadata": {},
     "output_type": "execute_result"
    },
    {
     "data": {
      "text/plain": [
       "Text(0.5, 0, '# of participants')"
      ]
     },
     "execution_count": 12,
     "metadata": {},
     "output_type": "execute_result"
    },
    {
     "data": {
      "text/plain": [
       "Text(0.5, 1.0, 'Satisfaction with Information from Health care providers')"
      ]
     },
     "execution_count": 12,
     "metadata": {},
     "output_type": "execute_result"
    },
    {
     "data": {
      "image/png": "[encoded data removed]",
      "text/plain": [
       "<Figure size 432x288 with 1 Axes>"
      ]
     },
     "metadata": {
      "needs_background": "light"
     },
     "output_type": "display_data"
    }
   ],
   "source": [
    "# Plot for Q6\n",
    "\n",
    "Q6_1.append(0)\n",
    "plt.barh(Q6_idx,Q6_1)\n",
    "plt.xlabel('# of participants')\n",
    "plt.title('Satisfaction with Information from Health care providers')\n",
    "plt.tight_layout()"
   ]
  },
  {
   "cell_type": "code",
   "execution_count": 13,
   "id": "cc4d6203-e390-43a7-abbc-f8f7c825167b",
   "metadata": {
    "collapsed": true,
    "jupyter": {
     "outputs_hidden": true
    },
    "tags": []
   },
   "outputs": [
    {
     "data": {
      "text/plain": [
       "<BarContainer object of 6 artists>"
      ]
     },
     "execution_count": 13,
     "metadata": {},
     "output_type": "execute_result"
    },
    {
     "data": {
      "text/plain": [
       "Text(0.5, 0, '# of participants')"
      ]
     },
     "execution_count": 13,
     "metadata": {},
     "output_type": "execute_result"
    },
    {
     "data": {
      "text/plain": [
       "Text(0.5, 1.0, 'Satisfaction with Information from Family and Friends')"
      ]
     },
     "execution_count": 13,
     "metadata": {},
     "output_type": "execute_result"
    },
    {
     "data": {
      "image/png": "[encoded data removed]",
      "text/plain": [
       "<Figure size 432x288 with 1 Axes>"
      ]
     },
     "metadata": {
      "needs_background": "light"
     },
     "output_type": "display_data"
    }
   ],
   "source": [
    "Q6_2.append(0)\n",
    "plt.barh(Q6_idx,Q6_2)\n",
    "plt.xlabel('# of participants')\n",
    "plt.title('Satisfaction with Information from Family and Friends')\n",
    "plt.tight_layout()"
   ]
  },
  {
   "cell_type": "code",
   "execution_count": 14,
   "id": "72b106b9-9e27-448f-a280-e3662ea7013d",
   "metadata": {
    "collapsed": true,
    "jupyter": {
     "outputs_hidden": true
    },
    "tags": []
   },
   "outputs": [
    {
     "data": {
      "text/plain": [
       "<BarContainer object of 6 artists>"
      ]
     },
     "execution_count": 14,
     "metadata": {},
     "output_type": "execute_result"
    },
    {
     "data": {
      "text/plain": [
       "Text(0.5, 0, '# of participants')"
      ]
     },
     "execution_count": 14,
     "metadata": {},
     "output_type": "execute_result"
    },
    {
     "data": {
      "text/plain": [
       "Text(0.5, 1.0, 'Satisfaction with Information from Internet/websites')"
      ]
     },
     "execution_count": 14,
     "metadata": {},
     "output_type": "execute_result"
    },
    {
     "data": {
      "image/png": "[encoded data removed]",
      "text/plain": [
       "<Figure size 432x288 with 1 Axes>"
      ]
     },
     "metadata": {
      "needs_background": "light"
     },
     "output_type": "display_data"
    }
   ],
   "source": [
    "Q6_3.append(0)\n",
    "plt.barh(Q6_idx,Q6_3)\n",
    "plt.xlabel('# of participants')\n",
    "plt.title('Satisfaction with Information from Internet/websites')\n",
    "plt.tight_layout()"
   ]
  },
  {
   "cell_type": "code",
   "execution_count": 15,
   "id": "c08956e3-081d-4371-a334-62068766c622",
   "metadata": {
    "collapsed": true,
    "jupyter": {
     "outputs_hidden": true
    },
    "tags": []
   },
   "outputs": [
    {
     "data": {
      "text/plain": [
       "<BarContainer object of 6 artists>"
      ]
     },
     "execution_count": 15,
     "metadata": {},
     "output_type": "execute_result"
    },
    {
     "data": {
      "text/plain": [
       "Text(0.5, 0, '# of participants')"
      ]
     },
     "execution_count": 15,
     "metadata": {},
     "output_type": "execute_result"
    },
    {
     "data": {
      "text/plain": [
       "Text(0.5, 1.0, 'Satisfaction with Written Resources')"
      ]
     },
     "execution_count": 15,
     "metadata": {},
     "output_type": "execute_result"
    },
    {
     "data": {
      "image/png": "[encoded data removed]",
      "text/plain": [
       "<Figure size 432x288 with 1 Axes>"
      ]
     },
     "metadata": {
      "needs_background": "light"
     },
     "output_type": "display_data"
    }
   ],
   "source": [
    "Q6_4.append(0)\n",
    "plt.barh(Q6_idx,Q6_4)\n",
    "plt.xlabel('# of participants')\n",
    "plt.title('Satisfaction with Written Resources')\n",
    "plt.tight_layout()"
   ]
  },
  {
   "cell_type": "code",
   "execution_count": 16,
   "id": "4eae03fd-21eb-4403-8f39-02ede9231f3c",
   "metadata": {
    "collapsed": true,
    "jupyter": {
     "outputs_hidden": true
    },
    "tags": []
   },
   "outputs": [
    {
     "data": {
      "text/plain": [
       "<BarContainer object of 6 artists>"
      ]
     },
     "execution_count": 16,
     "metadata": {},
     "output_type": "execute_result"
    },
    {
     "data": {
      "text/plain": [
       "Text(0.5, 0, '# of participants')"
      ]
     },
     "execution_count": 16,
     "metadata": {},
     "output_type": "execute_result"
    },
    {
     "data": {
      "text/plain": [
       "Text(0.5, 1.0, 'Satisfaction with Information from Community Organizations and Events')"
      ]
     },
     "execution_count": 16,
     "metadata": {},
     "output_type": "execute_result"
    },
    {
     "data": {
      "image/png": "[encoded data removed]",
      "text/plain": [
       "<Figure size 432x288 with 1 Axes>"
      ]
     },
     "metadata": {
      "needs_background": "light"
     },
     "output_type": "display_data"
    }
   ],
   "source": [
    "Q6_5.append(0)\n",
    "plt.barh(Q6_idx,Q6_5)\n",
    "plt.xlabel('# of participants')\n",
    "plt.title('Satisfaction with Information from Community Organizations and Events')\n",
    "plt.tight_layout()"
   ]
  },
  {
   "cell_type": "code",
   "execution_count": 17,
   "id": "dc1c996c-469a-42c4-94b3-c3fe93bfee93",
   "metadata": {
    "collapsed": true,
    "jupyter": {
     "outputs_hidden": true
    },
    "tags": []
   },
   "outputs": [
    {
     "name": "stdout",
     "output_type": "stream",
     "text": [
      "Use a computer\n",
      "59\n"
     ]
    },
    {
     "data": {
      "text/plain": [
       "A few times a year or less    0.305085\n",
       "A few times a week            0.254237\n",
       "A few times a month           0.220339\n",
       "Daily                         0.220339\n",
       "Name: Q7_1, dtype: float64"
      ]
     },
     "execution_count": 17,
     "metadata": {},
     "output_type": "execute_result"
    },
    {
     "name": "stdout",
     "output_type": "stream",
     "text": [
      "\n",
      "Use the internet\n",
      "57\n"
     ]
    },
    {
     "data": {
      "text/plain": [
       "A few times a year or less    0.350877\n",
       "Daily                         0.280702\n",
       "A few times a month           0.210526\n",
       "A few times a week            0.157895\n",
       "Name: Q7_2, dtype: float64"
      ]
     },
     "execution_count": 17,
     "metadata": {},
     "output_type": "execute_result"
    },
    {
     "name": "stdout",
     "output_type": "stream",
     "text": [
      "\n",
      "Shop online\n",
      "54\n"
     ]
    },
    {
     "data": {
      "text/plain": [
       "A few times a year or less    0.555556\n",
       "A few times a month           0.333333\n",
       "A few times a week            0.055556\n",
       "Daily                         0.055556\n",
       "Name: Q7_3, dtype: float64"
      ]
     },
     "execution_count": 17,
     "metadata": {},
     "output_type": "execute_result"
    },
    {
     "name": "stdout",
     "output_type": "stream",
     "text": [
      "\n",
      "Use social media\n",
      "58\n"
     ]
    },
    {
     "data": {
      "text/plain": [
       "Daily                         0.379310\n",
       "A few times a year or less    0.327586\n",
       "A few times a week            0.241379\n",
       "A few times a month           0.051724\n",
       "Name: Q7_4, dtype: float64"
      ]
     },
     "execution_count": 17,
     "metadata": {},
     "output_type": "execute_result"
    },
    {
     "name": "stdout",
     "output_type": "stream",
     "text": [
      "\n",
      "Look for health information\n",
      "58\n"
     ]
    },
    {
     "data": {
      "text/plain": [
       "A few times a month           0.344828\n",
       "A few times a year or less    0.310345\n",
       "A few times a week            0.275862\n",
       "Daily                         0.068966\n",
       "Name: Q7_5, dtype: float64"
      ]
     },
     "execution_count": 17,
     "metadata": {},
     "output_type": "execute_result"
    },
    {
     "name": "stdout",
     "output_type": "stream",
     "text": [
      "\n"
     ]
    }
   ],
   "source": [
    "# Q7 - Typical internet use\n",
    "\n",
    "Q7_idx = ['Daily','A few times a week','A few times a month',\n",
    "          'A few times a year or less']\n",
    "Q7_cols = ['Q7_1', 'Q7_2', 'Q7_3', 'Q7_4','Q7_5']\n",
    "Q7_dict = {1:\"Daily\", 2:\"A few times a week\", \n",
    "           3:\"A few times a month\", 4:\"A few times a year or less\"}\n",
    "Q7_cat = ['Use a computer','Use the internet','Shop online',\n",
    "          'Use social media','Look for health information']\n",
    "Q7_1 = list(base['Q7_1'].value_counts().sort_index())\n",
    "Q7_2 = list(base['Q7_2'].value_counts().sort_index())\n",
    "Q7_3 = list(base['Q7_3'].value_counts().sort_index())\n",
    "Q7_4 = list(base['Q7_4'].value_counts().sort_index())\n",
    "Q7_5 = list(base['Q7_5'].value_counts().sort_index())\n",
    "\n",
    "for i in range(5):\n",
    "    \n",
    "    print(Q7_cat[i])\n",
    "    print(base[Q7_cols[i]].value_counts().sum())\n",
    "    base[Q7_cols[i]].value_counts(normalize=True).rename(Q7_dict)\n",
    "    print()\n"
   ]
  },
  {
   "cell_type": "code",
   "execution_count": 18,
   "id": "b2ff39e5-9a54-419e-8c7a-f5a973b6b73e",
   "metadata": {
    "collapsed": true,
    "jupyter": {
     "outputs_hidden": true
    },
    "tags": []
   },
   "outputs": [
    {
     "data": {
      "text/plain": [
       "<BarContainer object of 4 artists>"
      ]
     },
     "execution_count": 18,
     "metadata": {},
     "output_type": "execute_result"
    },
    {
     "data": {
      "text/plain": [
       "Text(0.5, 0, '# of participants')"
      ]
     },
     "execution_count": 18,
     "metadata": {},
     "output_type": "execute_result"
    },
    {
     "data": {
      "text/plain": [
       "Text(0.5, 1.0, 'Typical Use of Computer')"
      ]
     },
     "execution_count": 18,
     "metadata": {},
     "output_type": "execute_result"
    },
    {
     "data": {
      "image/png": "[encoded data removed]",
      "text/plain": [
       "<Figure size 432x288 with 1 Axes>"
      ]
     },
     "metadata": {
      "needs_background": "light"
     },
     "output_type": "display_data"
    }
   ],
   "source": [
    "# Plot for Q7\n",
    "\n",
    "plt.barh(Q7_idx,Q7_1)\n",
    "plt.xlabel('# of participants')\n",
    "plt.title('Typical Use of Computer')\n",
    "plt.tight_layout()"
   ]
  },
  {
   "cell_type": "code",
   "execution_count": 19,
   "id": "680ae26c-3b96-48ee-a6ab-ddf00cb9fd7a",
   "metadata": {
    "collapsed": true,
    "jupyter": {
     "outputs_hidden": true
    },
    "tags": []
   },
   "outputs": [
    {
     "data": {
      "text/plain": [
       "<BarContainer object of 4 artists>"
      ]
     },
     "execution_count": 19,
     "metadata": {},
     "output_type": "execute_result"
    },
    {
     "data": {
      "text/plain": [
       "Text(0.5, 0, '# of participants')"
      ]
     },
     "execution_count": 19,
     "metadata": {},
     "output_type": "execute_result"
    },
    {
     "data": {
      "text/plain": [
       "Text(0.5, 1.0, 'Typical Use of Internet')"
      ]
     },
     "execution_count": 19,
     "metadata": {},
     "output_type": "execute_result"
    },
    {
     "data": {
      "image/png": "[encoded data removed]",
      "text/plain": [
       "<Figure size 432x288 with 1 Axes>"
      ]
     },
     "metadata": {
      "needs_background": "light"
     },
     "output_type": "display_data"
    }
   ],
   "source": [
    "#plt.barh(Q7_2)\n",
    "#plt.xlabel('# of participants')\n",
    "#plt.title('Typical Use of Internet')\n",
    "#plt.tight_layout()\n",
    "\n",
    "plt.barh(Q7_idx,Q7_2)\n",
    "plt.xlabel('# of participants')\n",
    "plt.title('Typical Use of Internet')\n",
    "plt.tight_layout()"
   ]
  },
  {
   "cell_type": "code",
   "execution_count": 20,
   "id": "e26c4696-93e3-408e-9b34-f5bd427a6367",
   "metadata": {
    "collapsed": true,
    "jupyter": {
     "outputs_hidden": true
    },
    "tags": []
   },
   "outputs": [
    {
     "data": {
      "text/plain": [
       "<BarContainer object of 4 artists>"
      ]
     },
     "execution_count": 20,
     "metadata": {},
     "output_type": "execute_result"
    },
    {
     "data": {
      "text/plain": [
       "Text(0.5, 0, '# of participants')"
      ]
     },
     "execution_count": 20,
     "metadata": {},
     "output_type": "execute_result"
    },
    {
     "data": {
      "text/plain": [
       "Text(0.5, 1.0, 'Shopping online')"
      ]
     },
     "execution_count": 20,
     "metadata": {},
     "output_type": "execute_result"
    },
    {
     "data": {
      "image/png": "[encoded data removed]",
      "text/plain": [
       "<Figure size 432x288 with 1 Axes>"
      ]
     },
     "metadata": {
      "needs_background": "light"
     },
     "output_type": "display_data"
    }
   ],
   "source": [
    "plt.barh(Q7_idx,Q7_3)\n",
    "plt.xlabel('# of participants')\n",
    "plt.title('Shopping online')\n",
    "plt.tight_layout()"
   ]
  },
  {
   "cell_type": "code",
   "execution_count": 21,
   "id": "ce675a4a-9a06-4371-8d83-6f2cba2c434c",
   "metadata": {
    "collapsed": true,
    "jupyter": {
     "outputs_hidden": true
    },
    "tags": []
   },
   "outputs": [
    {
     "data": {
      "text/plain": [
       "<BarContainer object of 4 artists>"
      ]
     },
     "execution_count": 21,
     "metadata": {},
     "output_type": "execute_result"
    },
    {
     "data": {
      "text/plain": [
       "Text(0.5, 0, '# of participants')"
      ]
     },
     "execution_count": 21,
     "metadata": {},
     "output_type": "execute_result"
    },
    {
     "data": {
      "text/plain": [
       "Text(0.5, 1.0, 'Typical Use of Social Media')"
      ]
     },
     "execution_count": 21,
     "metadata": {},
     "output_type": "execute_result"
    },
    {
     "data": {
      "image/png": "[encoded data removed]",
      "text/plain": [
       "<Figure size 432x288 with 1 Axes>"
      ]
     },
     "metadata": {
      "needs_background": "light"
     },
     "output_type": "display_data"
    }
   ],
   "source": [
    "plt.barh(Q7_idx,Q7_4)\n",
    "plt.xlabel('# of participants')\n",
    "plt.title('Typical Use of Social Media')\n",
    "plt.tight_layout()"
   ]
  },
  {
   "cell_type": "code",
   "execution_count": 22,
   "id": "2c06e073-b8b9-4a46-9389-6aae9effcb40",
   "metadata": {
    "collapsed": true,
    "jupyter": {
     "outputs_hidden": true
    },
    "tags": []
   },
   "outputs": [
    {
     "data": {
      "text/plain": [
       "<BarContainer object of 4 artists>"
      ]
     },
     "execution_count": 22,
     "metadata": {},
     "output_type": "execute_result"
    },
    {
     "data": {
      "text/plain": [
       "Text(0.5, 0, '# of participants')"
      ]
     },
     "execution_count": 22,
     "metadata": {},
     "output_type": "execute_result"
    },
    {
     "data": {
      "text/plain": [
       "Text(0.5, 1.0, 'Looking for Health Information online')"
      ]
     },
     "execution_count": 22,
     "metadata": {},
     "output_type": "execute_result"
    },
    {
     "data": {
      "image/png": "[encoded data removed]",
      "text/plain": [
       "<Figure size 432x288 with 1 Axes>"
      ]
     },
     "metadata": {
      "needs_background": "light"
     },
     "output_type": "display_data"
    }
   ],
   "source": [
    "plt.barh(Q7_idx,Q7_5)\n",
    "plt.xlabel('# of participants')\n",
    "plt.title('Looking for Health Information online')\n",
    "plt.tight_layout()"
   ]
  },
  {
   "cell_type": "code",
   "execution_count": 23,
   "id": "6b60946c-34e9-47d5-a615-9869fcf44e37",
   "metadata": {
    "collapsed": true,
    "jupyter": {
     "outputs_hidden": true
    },
    "tags": []
   },
   "outputs": [
    {
     "data": {
      "text/plain": [
       "([<matplotlib.patches.Wedge at 0x7fb3b623d130>,\n",
       "  <matplotlib.patches.Wedge at 0x7fb3b623d7c0>],\n",
       " [Text(-1.0873151497178102, 0.16657060123003706, 'Yes'),\n",
       "  Text(1.0873151419200764, -0.1665706521309327, 'No')],\n",
       " [Text(-0.5930809907551692, 0.0908566915800202, '95.2%'),\n",
       "  Text(0.5930809865018598, -0.09085671934414509, '4.8%')])"
      ]
     },
     "execution_count": 23,
     "metadata": {},
     "output_type": "execute_result"
    },
    {
     "data": {
      "text/plain": [
       "Text(0.5, 1.0, 'Do you have a cell phone?')"
      ]
     },
     "execution_count": 23,
     "metadata": {},
     "output_type": "execute_result"
    },
    {
     "data": {
      "image/png": "[encoded data removed]",
      "text/plain": [
       "<Figure size 432x288 with 1 Axes>"
      ]
     },
     "metadata": {},
     "output_type": "display_data"
    }
   ],
   "source": [
    "# Q8\n",
    "\n",
    "Q8_idx = ['Yes','No']\n",
    "Q8 = list(base['Q8'].value_counts(normalize=True).sort_index())\n",
    "\n",
    "plt.pie(Q8,labels=Q8_idx,autopct='%1.1f%%')\n",
    "plt.title('Do you have a cell phone?')\n",
    "plt.tight_layout()\n"
   ]
  },
  {
   "cell_type": "code",
   "execution_count": 24,
   "id": "1967ef59-13d8-42a3-b9e1-9dde0046eded",
   "metadata": {
    "collapsed": true,
    "jupyter": {
     "outputs_hidden": true
    },
    "tags": []
   },
   "outputs": [
    {
     "data": {
      "text/plain": [
       "([<matplotlib.patches.Wedge at 0x7fb3b630d220>,\n",
       "  <matplotlib.patches.Wedge at 0x7fb3b630d940>],\n",
       " [Text(-0.9413593913346188, 0.5690716091548729, 'Smart phone'),\n",
       "  Text(0.9413593913346187, -0.569071609154873, 'Not a smart phone')],\n",
       " [Text(-0.5134687589097919, 0.3104026959026579, '82.7%'),\n",
       "  Text(0.5134687589097919, -0.31040269590265795, '17.3%')])"
      ]
     },
     "execution_count": 24,
     "metadata": {},
     "output_type": "execute_result"
    },
    {
     "data": {
      "text/plain": [
       "Text(0.5, 1.0, 'If yes, what kind of cell phone?')"
      ]
     },
     "execution_count": 24,
     "metadata": {},
     "output_type": "execute_result"
    },
    {
     "data": {
      "image/png": "[encoded data removed]",
      "text/plain": [
       "<Figure size 432x288 with 1 Axes>"
      ]
     },
     "metadata": {},
     "output_type": "display_data"
    }
   ],
   "source": [
    "# Q9:\n",
    "Q9_idx = ['Smart phone','Not a smart phone']\n",
    "Q9 = list(base['Q9'].value_counts(normalize=True).sort_index())\n",
    "\n",
    "plt.pie(Q9,labels=Q9_idx,autopct='%1.1f%%')\n",
    "plt.title('If yes, what kind of cell phone?')\n",
    "plt.tight_layout()"
   ]
  },
  {
   "cell_type": "code",
   "execution_count": 25,
   "id": "9bf3f54e-c766-451a-8671-13b24d68b1ea",
   "metadata": {
    "collapsed": true,
    "jupyter": {
     "outputs_hidden": true
    },
    "tags": []
   },
   "outputs": [
    {
     "data": {
      "text/plain": [
       "([<matplotlib.patches.Wedge at 0x7fb3b63dc430>,\n",
       "  <matplotlib.patches.Wedge at 0x7fb3b63dcaf0>],\n",
       " [Text(-0.05756949701481712, 1.0984924911047236, 'Yes'),\n",
       "  Text(0.05756939416652695, -1.0984924964947642, 'No')],\n",
       " [Text(-0.03140154382626388, 0.5991777224207583, '51.7%'),\n",
       "  Text(0.03140148772719651, -0.5991777253607804, '48.3%')])"
      ]
     },
     "execution_count": 25,
     "metadata": {},
     "output_type": "execute_result"
    },
    {
     "data": {
      "text/plain": [
       "Text(0.5, 1.0, 'Do you have a computer?')"
      ]
     },
     "execution_count": 25,
     "metadata": {},
     "output_type": "execute_result"
    },
    {
     "data": {
      "image/png": "[encoded data removed]",
      "text/plain": [
       "<Figure size 432x288 with 1 Axes>"
      ]
     },
     "metadata": {},
     "output_type": "display_data"
    }
   ],
   "source": [
    "# Q10:\n",
    "Q10_idx = ['Yes','No']\n",
    "Q10 = list(base['Q10'].value_counts(normalize=True).sort_index())\n",
    "\n",
    "plt.pie(Q10,labels=Q10_idx,autopct='%1.1f%%')\n",
    "plt.title('Do you have a computer?')\n",
    "plt.tight_layout()"
   ]
  },
  {
   "cell_type": "code",
   "execution_count": 26,
   "id": "900cedd0-3912-40cf-a465-7637ff8bf0bd",
   "metadata": {
    "collapsed": true,
    "jupyter": {
     "outputs_hidden": true
    },
    "tags": []
   },
   "outputs": [
    {
     "data": {
      "text/plain": [
       "([<matplotlib.patches.Wedge at 0x7fb3b648b9d0>,\n",
       "  <matplotlib.patches.Wedge at 0x7fb3b649b130>],\n",
       " [Text(0.2847009827728237, 1.0625184000327659, 'Yes'),\n",
       "  Text(-0.28470108225297436, -1.0625183733771315, 'No')],\n",
       " [Text(0.1552914451488129, 0.5795554909269631, '41.7%'),\n",
       "  Text(-0.15529149941071327, -0.5795554763875261, '58.3%')])"
      ]
     },
     "execution_count": 26,
     "metadata": {},
     "output_type": "execute_result"
    },
    {
     "data": {
      "text/plain": [
       "Text(0.5, 1.0, 'Do you have a tablet?')"
      ]
     },
     "execution_count": 26,
     "metadata": {},
     "output_type": "execute_result"
    },
    {
     "data": {
      "image/png": "[encoded data removed]",
      "text/plain": [
       "<Figure size 432x288 with 1 Axes>"
      ]
     },
     "metadata": {},
     "output_type": "display_data"
    }
   ],
   "source": [
    "# Q11:\n",
    "Q11_idx = ['Yes','No']\n",
    "Q11 = list(base['Q11'].value_counts(normalize=True).sort_index())\n",
    "\n",
    "plt.pie(Q11,labels=Q11_idx,autopct='%1.1f%%')\n",
    "plt.title('Do you have a tablet?')\n",
    "plt.tight_layout()"
   ]
  },
  {
   "cell_type": "code",
   "execution_count": 27,
   "id": "2162dd90-c19e-406b-b6bc-507ec6fd6d61",
   "metadata": {
    "collapsed": true,
    "jupyter": {
     "outputs_hidden": true
    },
    "tags": []
   },
   "outputs": [
    {
     "data": {
      "text/plain": [
       "([<matplotlib.patches.Wedge at 0x7fb3b64e9e50>,\n",
       "  <matplotlib.patches.Wedge at 0x7fb3b64f8460>],\n",
       " [Text(-0.9281530723111776, 0.5903658817710605, 'Yes'),\n",
       "  Text(0.9281530170371307, -0.5903659686710202, 'No')],\n",
       " [Text(-0.5062653121697333, 0.3220177536933057, '82.0%'),\n",
       "  Text(0.506265282020253, -0.3220178010932837, '18.0%')])"
      ]
     },
     "execution_count": 27,
     "metadata": {},
     "output_type": "execute_result"
    },
    {
     "data": {
      "text/plain": [
       "Text(0.5, 1.0, 'Do you have internet service at home?')"
      ]
     },
     "execution_count": 27,
     "metadata": {},
     "output_type": "execute_result"
    },
    {
     "data": {
      "image/png": "[encoded data removed]",
      "text/plain": [
       "<Figure size 432x288 with 1 Axes>"
      ]
     },
     "metadata": {},
     "output_type": "display_data"
    }
   ],
   "source": [
    "# Q12:\n",
    "Q12_idx = ['Yes','No']\n",
    "Q12 = list(base['Q12'].value_counts(normalize=True).sort_index())\n",
    "\n",
    "plt.pie(Q12,labels=Q12_idx,autopct='%1.1f%%')\n",
    "plt.title('Do you have internet service at home?')\n",
    "plt.tight_layout()"
   ]
  },
  {
   "cell_type": "code",
   "execution_count": 28,
   "id": "3efe6081-ba56-412a-a145-d2cfd78b0688",
   "metadata": {
    "collapsed": true,
    "jupyter": {
     "outputs_hidden": true
    },
    "tags": []
   },
   "outputs": [
    {
     "data": {
      "text/plain": [
       "([<matplotlib.patches.Wedge at 0x7fb3b6586040>,\n",
       "  <matplotlib.patches.Wedge at 0x7fb3b6586730>],\n",
       " [Text(0.2847009827728237, 1.0625184000327659, 'At Home'),\n",
       "  Text(-0.28470108225297436, -1.0625183733771315, 'Other')],\n",
       " [Text(0.1552914451488129, 0.5795554909269631, '41.7%'),\n",
       "  Text(-0.15529149941071327, -0.5795554763875261, '58.3%')])"
      ]
     },
     "execution_count": 28,
     "metadata": {},
     "output_type": "execute_result"
    },
    {
     "data": {
      "text/plain": [
       "Text(0.5, 1.0, 'Where do you frequently use a computer?')"
      ]
     },
     "execution_count": 28,
     "metadata": {},
     "output_type": "execute_result"
    },
    {
     "data": {
      "image/png": "[encoded data removed]",
      "text/plain": [
       "<Figure size 432x288 with 1 Axes>"
      ]
     },
     "metadata": {},
     "output_type": "display_data"
    }
   ],
   "source": [
    "# Q13:\n",
    "Q13_idx = ['At Home','Other']\n",
    "Q13 = list(base['Q11'].value_counts(normalize=True).sort_index())\n",
    "\n",
    "plt.pie(Q13,labels=Q13_idx,autopct='%1.1f%%')\n",
    "plt.title('Where do you frequently use a computer?')\n",
    "plt.tight_layout()"
   ]
  },
  {
   "cell_type": "code",
   "execution_count": 29,
   "id": "2bbcf356-75ae-4fe7-95f7-ef9ca0514014",
   "metadata": {
    "collapsed": true,
    "jupyter": {
     "outputs_hidden": true
    },
    "tags": []
   },
   "outputs": [
    {
     "data": {
      "text/plain": [
       "<BarContainer object of 5 artists>"
      ]
     },
     "execution_count": 29,
     "metadata": {},
     "output_type": "execute_result"
    },
    {
     "data": {
      "text/plain": [
       "Text(0.5, 1.0, 'Self-reported Ability to Use Internet')"
      ]
     },
     "execution_count": 29,
     "metadata": {},
     "output_type": "execute_result"
    },
    {
     "data": {
      "text/plain": [
       "Text(0, 0.5, '# of participants')"
      ]
     },
     "execution_count": 29,
     "metadata": {},
     "output_type": "execute_result"
    },
    {
     "data": {
      "image/png": "[encoded data removed]",
      "text/plain": [
       "<Figure size 432x288 with 1 Axes>"
      ]
     },
     "metadata": {
      "needs_background": "light"
     },
     "output_type": "display_data"
    }
   ],
   "source": [
    "#Q14\n",
    "\n",
    "Q14_idx = ['None','Poor','Moderate','Good','Excellent']\n",
    "Q14 = list(base['Q14'].value_counts().sort_index())\n",
    "\n",
    "plt.bar(Q14_idx,Q14)\n",
    "plt.title('Self-reported Ability to Use Internet')\n",
    "plt.ylabel('# of participants')\n",
    "plt.tight_layout()"
   ]
  },
  {
   "cell_type": "code",
   "execution_count": null,
   "id": "d52a24d7-4393-4eac-b35c-488d208c9fea",
   "metadata": {},
   "outputs": [],
   "source": []
  },
  {
   "cell_type": "code",
   "execution_count": null,
   "id": "7afab124-dead-4643-af91-ad6c9ec530ca",
   "metadata": {},
   "outputs": [],
   "source": []
  }
 ],
 "metadata": {
  "kernelspec": {
   "display_name": "Python 3",
   "language": "python",
   "name": "python3"
  },
  "language_info": {
   "codemirror_mode": {
    "name": "ipython",
    "version": 3
   },
   "file_extension": ".py",
   "mimetype": "text/x-python",
   "name": "python",
   "nbconvert_exporter": "python",
   "pygments_lexer": "ipython3",
   "version": "3.8.8"
  }
 },
 "nbformat": 4,
 "nbformat_minor": 5
}
